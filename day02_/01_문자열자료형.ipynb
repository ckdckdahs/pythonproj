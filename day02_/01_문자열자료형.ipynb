{
 "cells": [
  {
   "cell_type": "markdown",
   "id": "5b1ca7f3-8cb1-411e-877b-8bb5bb181d64",
   "metadata": {},
   "source": [
    "##### 문자열\n",
    "- 분리\n",
    "- 결합"
   ]
  },
  {
   "cell_type": "code",
   "execution_count": 12,
   "id": "0829204b-856d-4991-8741-a222041caf16",
   "metadata": {},
   "outputs": [],
   "source": [
    "a = 'hello, hi, bye'"
   ]
  },
  {
   "cell_type": "code",
   "execution_count": 13,
   "id": "b0c49727-d31d-42b0-9aac-0e65ee9f8873",
   "metadata": {},
   "outputs": [
    {
     "data": {
      "text/plain": [
       "str"
      ]
     },
     "execution_count": 13,
     "metadata": {},
     "output_type": "execute_result"
    }
   ],
   "source": [
    "type(a)"
   ]
  },
  {
   "cell_type": "code",
   "execution_count": 14,
   "id": "55339e64-c056-4bed-8e1d-d777db49b8da",
   "metadata": {},
   "outputs": [],
   "source": [
    "b = a.split(sep=',') #문자열 분리"
   ]
  },
  {
   "cell_type": "code",
   "execution_count": 15,
   "id": "712b6a7f-2dbb-4a14-91d8-0c5602cd2d97",
   "metadata": {},
   "outputs": [
    {
     "data": {
      "text/plain": [
       "['hello', ' hi', ' bye']"
      ]
     },
     "execution_count": 15,
     "metadata": {},
     "output_type": "execute_result"
    }
   ],
   "source": [
    "b"
   ]
  },
  {
   "cell_type": "code",
   "execution_count": 16,
   "id": "157840ea-ace4-4702-9fd3-cc596da753f9",
   "metadata": {},
   "outputs": [
    {
     "data": {
      "text/plain": [
       "'hello,  hi,  bye'"
      ]
     },
     "execution_count": 16,
     "metadata": {},
     "output_type": "execute_result"
    }
   ],
   "source": [
    "', '.join(b) #문자열 결합"
   ]
  },
  {
   "cell_type": "code",
   "execution_count": 17,
   "id": "c9a5c2d9-df3a-48ec-bddf-a9c0e37df807",
   "metadata": {},
   "outputs": [
    {
     "data": {
      "text/plain": [
       "'HELLO, HI, BYE'"
      ]
     },
     "execution_count": 17,
     "metadata": {},
     "output_type": "execute_result"
    }
   ],
   "source": [
    "a.upper() #문자열 전체 대문자로 변환"
   ]
  },
  {
   "cell_type": "code",
   "execution_count": 18,
   "id": "8e15bc90-6046-4b0a-875f-c6c1034d5072",
   "metadata": {},
   "outputs": [
    {
     "data": {
      "text/plain": [
       "'hello, hi, bye'"
      ]
     },
     "execution_count": 18,
     "metadata": {},
     "output_type": "execute_result"
    }
   ],
   "source": [
    "a"
   ]
  },
  {
   "cell_type": "code",
   "execution_count": 19,
   "id": "483dbab5-be6d-4bbe-b60e-ac06a51e302e",
   "metadata": {},
   "outputs": [],
   "source": [
    "a1 = a.upper() "
   ]
  },
  {
   "cell_type": "code",
   "execution_count": 21,
   "id": "7f6bba49-201b-45fa-8a5f-346f69062a9e",
   "metadata": {},
   "outputs": [
    {
     "data": {
      "text/plain": [
       "'HELLO, HI, BYE'"
      ]
     },
     "execution_count": 21,
     "metadata": {},
     "output_type": "execute_result"
    }
   ],
   "source": [
    "a1"
   ]
  },
  {
   "cell_type": "code",
   "execution_count": 23,
   "id": "fc763fed-4540-4895-99a2-b43e059104d6",
   "metadata": {},
   "outputs": [
    {
     "data": {
      "text/plain": [
       "'hello, hi, bye'"
      ]
     },
     "execution_count": 23,
     "metadata": {},
     "output_type": "execute_result"
    }
   ],
   "source": [
    "a1.lower() #문자열 전체 소문자로 변환"
   ]
  },
  {
   "cell_type": "code",
   "execution_count": 24,
   "id": "aa6dc2fc-edaa-4cf2-9ee2-9b7c9c0b45b7",
   "metadata": {},
   "outputs": [
    {
     "data": {
      "text/plain": [
       "'Hello, hi, bye'"
      ]
     },
     "execution_count": 24,
     "metadata": {},
     "output_type": "execute_result"
    }
   ],
   "source": [
    "a1.capitalize() #첫번째 문자 대문자로 변환"
   ]
  },
  {
   "cell_type": "code",
   "execution_count": 25,
   "id": "a22db6ae-51f5-4509-bbc4-37668b4cc5d6",
   "metadata": {},
   "outputs": [],
   "source": [
    "a= ' hi '"
   ]
  },
  {
   "cell_type": "code",
   "execution_count": 26,
   "id": "827a5f98-e63a-4502-824e-d4ee619fc5c5",
   "metadata": {},
   "outputs": [
    {
     "data": {
      "text/plain": [
       "'hi'"
      ]
     },
     "execution_count": 26,
     "metadata": {},
     "output_type": "execute_result"
    }
   ],
   "source": [
    "a.strip()"
   ]
  },
  {
   "cell_type": "code",
   "execution_count": 27,
   "id": "2438c9b3-c94d-4a27-b930-5967c1faaea5",
   "metadata": {},
   "outputs": [
    {
     "data": {
      "text/plain": [
       "'hi '"
      ]
     },
     "execution_count": 27,
     "metadata": {},
     "output_type": "execute_result"
    }
   ],
   "source": [
    "a.lstrip()"
   ]
  },
  {
   "cell_type": "code",
   "execution_count": 28,
   "id": "392909c9-3fcf-449c-a37d-eece2c6dd29e",
   "metadata": {},
   "outputs": [
    {
     "data": {
      "text/plain": [
       "' hi'"
      ]
     },
     "execution_count": 28,
     "metadata": {},
     "output_type": "execute_result"
    }
   ],
   "source": [
    "a.rstrip()"
   ]
  },
  {
   "cell_type": "code",
   "execution_count": 29,
   "id": "25a64378-cf19-4bef-bcf3-2a1cd9999325",
   "metadata": {},
   "outputs": [],
   "source": [
    "a = \"life is too short\""
   ]
  },
  {
   "cell_type": "code",
   "execution_count": 30,
   "id": "3ad9b50f-230c-420f-9963-783782fa661f",
   "metadata": {},
   "outputs": [
    {
     "data": {
      "text/plain": [
       "'life is  short'"
      ]
     },
     "execution_count": 30,
     "metadata": {},
     "output_type": "execute_result"
    }
   ],
   "source": [
    "a.replace('too','')"
   ]
  },
  {
   "cell_type": "code",
   "execution_count": 31,
   "id": "06a044db-ce33-4e92-8710-614feedc5cd2",
   "metadata": {},
   "outputs": [],
   "source": [
    "e= [1,2, ['life', 'is']]"
   ]
  },
  {
   "cell_type": "code",
   "execution_count": 32,
   "id": "d6a7b042-e659-4f1a-a270-01bf1940566e",
   "metadata": {},
   "outputs": [
    {
     "data": {
      "text/plain": [
       "list"
      ]
     },
     "execution_count": 32,
     "metadata": {},
     "output_type": "execute_result"
    }
   ],
   "source": [
    "type(e)"
   ]
  },
  {
   "cell_type": "code",
   "execution_count": 33,
   "id": "55f737ec-41d0-4e28-92d9-e6216e8e638a",
   "metadata": {},
   "outputs": [
    {
     "data": {
      "text/plain": [
       "'is'"
      ]
     },
     "execution_count": 33,
     "metadata": {},
     "output_type": "execute_result"
    }
   ],
   "source": [
    "e[2][1]"
   ]
  },
  {
   "cell_type": "code",
   "execution_count": 40,
   "id": "9000ea78-c0ec-4e7c-9173-20250870ea92",
   "metadata": {},
   "outputs": [],
   "source": [
    "a = [1,2,3,[2,3,4]]\n",
    "b = [4,5,6]"
   ]
  },
  {
   "cell_type": "code",
   "execution_count": 41,
   "id": "ed3a27c0-415d-44cd-a30f-d142aa2a4712",
   "metadata": {},
   "outputs": [
    {
     "data": {
      "text/plain": [
       "[1, 2, 3, [2, 3, 4], 4, 5, 6]"
      ]
     },
     "execution_count": 41,
     "metadata": {},
     "output_type": "execute_result"
    }
   ],
   "source": [
    "a+b"
   ]
  },
  {
   "cell_type": "code",
   "execution_count": 42,
   "id": "4cb6eaa8-a68a-4de7-9eb7-70f23ef9f919",
   "metadata": {},
   "outputs": [
    {
     "data": {
      "text/plain": [
       "[1, 2, 3, [2, 3, 4], 1, 2, 3, [2, 3, 4], 1, 2, 3, [2, 3, 4]]"
      ]
     },
     "execution_count": 42,
     "metadata": {},
     "output_type": "execute_result"
    }
   ],
   "source": [
    "a*3"
   ]
  },
  {
   "cell_type": "code",
   "execution_count": 43,
   "id": "ce2a0810-ca91-460c-8e95-f65d2067b0e6",
   "metadata": {},
   "outputs": [
    {
     "data": {
      "text/plain": [
       "4"
      ]
     },
     "execution_count": 43,
     "metadata": {},
     "output_type": "execute_result"
    }
   ],
   "source": [
    "len(a)"
   ]
  },
  {
   "cell_type": "code",
   "execution_count": 44,
   "id": "a4e95d45-c2cd-4cab-8daa-db90d36498bd",
   "metadata": {},
   "outputs": [],
   "source": [
    "a = [1,2,3]\n",
    "a[2] = 4"
   ]
  },
  {
   "cell_type": "code",
   "execution_count": 45,
   "id": "82701f39-f76f-4cad-827b-2a8d55e0cdbc",
   "metadata": {},
   "outputs": [
    {
     "data": {
      "text/plain": [
       "[1, 2, 4]"
      ]
     },
     "execution_count": 45,
     "metadata": {},
     "output_type": "execute_result"
    }
   ],
   "source": [
    "a"
   ]
  },
  {
   "cell_type": "code",
   "execution_count": 46,
   "id": "af298eb4-37f8-4980-8539-4894aa57f368",
   "metadata": {},
   "outputs": [
    {
     "data": {
      "text/plain": [
       "[2, 4]"
      ]
     },
     "execution_count": 46,
     "metadata": {},
     "output_type": "execute_result"
    }
   ],
   "source": [
    "del a[0]\n",
    "a"
   ]
  },
  {
   "cell_type": "code",
   "execution_count": 47,
   "id": "37c3f322-fa73-4152-ae01-8c15175886a5",
   "metadata": {},
   "outputs": [],
   "source": [
    "a = [1, 2, 3]\n",
    "a.append(4)"
   ]
  },
  {
   "cell_type": "code",
   "execution_count": 48,
   "id": "1bbebcb2-ca4b-48cb-b61b-5e35aade5595",
   "metadata": {},
   "outputs": [
    {
     "data": {
      "text/plain": [
       "[1, 2, 3, 4]"
      ]
     },
     "execution_count": 48,
     "metadata": {},
     "output_type": "execute_result"
    }
   ],
   "source": [
    "a"
   ]
  },
  {
   "cell_type": "code",
   "execution_count": 49,
   "id": "24938b8f-f772-447f-8d89-05c024198b2d",
   "metadata": {},
   "outputs": [],
   "source": [
    "a.append([5, 6])"
   ]
  },
  {
   "cell_type": "code",
   "execution_count": 50,
   "id": "65016d89-3814-4890-980a-497c8ec39c4b",
   "metadata": {},
   "outputs": [
    {
     "data": {
      "text/plain": [
       "[1, 2, 3, 4, [5, 6]]"
      ]
     },
     "execution_count": 50,
     "metadata": {},
     "output_type": "execute_result"
    }
   ],
   "source": [
    "a"
   ]
  },
  {
   "cell_type": "code",
   "execution_count": 51,
   "id": "e8518049-ebb7-44fa-9a57-9cf0458e1996",
   "metadata": {},
   "outputs": [
    {
     "data": {
      "text/plain": [
       "[1, 2, 3, 4, [5, 6], 7, 8]"
      ]
     },
     "execution_count": 51,
     "metadata": {},
     "output_type": "execute_result"
    }
   ],
   "source": [
    "a.extend([7, 8])\n",
    "a"
   ]
  },
  {
   "cell_type": "raw",
   "id": "f39e6dee-5b26-4442-a7f8-5fc2e12c3855",
   "metadata": {},
   "source": [
    "a= [1, 2, 3, 4, 5, 6, 8, 7]"
   ]
  },
  {
   "cell_type": "code",
   "execution_count": 59,
   "id": "6d7e34a7-e25b-4070-a72f-c97a303ece43",
   "metadata": {},
   "outputs": [
    {
     "data": {
      "text/plain": [
       "list"
      ]
     },
     "execution_count": 59,
     "metadata": {},
     "output_type": "execute_result"
    }
   ],
   "source": [
    "type(a)"
   ]
  },
  {
   "cell_type": "markdown",
   "id": "c61a1521-deca-4410-9687-3dacd49100bf",
   "metadata": {
    "tags": []
   },
   "source": [
    "#### 튜플"
   ]
  },
  {
   "cell_type": "code",
   "execution_count": 65,
   "id": "78e4e389-7668-4174-aa9c-f5964a901a52",
   "metadata": {},
   "outputs": [],
   "source": [
    "t1 = ()\n",
    "t2 = (1, )\n",
    "t3 = (1, 2, 3)\n",
    "t4 = 1, 2, 3\n",
    "t5 = ('a', 'b', ('ab', 'cd'))"
   ]
  },
  {
   "cell_type": "code",
   "execution_count": 68,
   "id": "edaab910-5b91-42c6-8251-7cee4e5b213b",
   "metadata": {},
   "outputs": [
    {
     "data": {
      "text/plain": [
       "1"
      ]
     },
     "execution_count": 68,
     "metadata": {},
     "output_type": "execute_result"
    }
   ],
   "source": [
    "t3[0]"
   ]
  },
  {
   "cell_type": "code",
   "execution_count": 69,
   "id": "97e47f8a-59e8-4a67-b8aa-7dbb591bfb83",
   "metadata": {},
   "outputs": [
    {
     "data": {
      "text/plain": [
       "1"
      ]
     },
     "execution_count": 69,
     "metadata": {},
     "output_type": "execute_result"
    }
   ],
   "source": [
    "t3.count(2)"
   ]
  },
  {
   "cell_type": "code",
   "execution_count": 70,
   "id": "d2bc0000-2d4c-4e36-9e24-35ac330fe4d4",
   "metadata": {},
   "outputs": [],
   "source": [
    "dic = {'name':'태환', 'feature':'잠 ㅈㄴ잔다', 'birth':'2월'}    "
   ]
  },
  {
   "cell_type": "code",
   "execution_count": 71,
   "id": "d22dba1f-1544-4f37-b89d-007652eec948",
   "metadata": {},
   "outputs": [
    {
     "data": {
      "text/plain": [
       "'태환'"
      ]
     },
     "execution_count": 71,
     "metadata": {},
     "output_type": "execute_result"
    }
   ],
   "source": [
    "dic['name']"
   ]
  },
  {
   "cell_type": "code",
   "execution_count": 72,
   "id": "9c5317df-8a5e-4c3c-a07f-ec23ec801737",
   "metadata": {},
   "outputs": [
    {
     "data": {
      "text/plain": [
       "'잠 ㅈㄴ잔다'"
      ]
     },
     "execution_count": 72,
     "metadata": {},
     "output_type": "execute_result"
    }
   ],
   "source": [
    "dic['feature']"
   ]
  },
  {
   "cell_type": "code",
   "execution_count": 74,
   "id": "3063ade1-7312-4189-8d72-0eff0156bf47",
   "metadata": {},
   "outputs": [],
   "source": [
    "dic['feature2'] = '말 ㅈㄴ많다'"
   ]
  },
  {
   "cell_type": "code",
   "execution_count": 75,
   "id": "c2e1bf89-9c2a-4a1f-92e3-636651117beb",
   "metadata": {},
   "outputs": [
    {
     "data": {
      "text/plain": [
       "{'name': '태환', 'feature': '잠 ㅈㄴ잔다', 'birth': '2월', 'feature2': '말 ㅈㄴ많다'}"
      ]
     },
     "execution_count": 75,
     "metadata": {},
     "output_type": "execute_result"
    }
   ],
   "source": [
    "dic"
   ]
  },
  {
   "cell_type": "code",
   "execution_count": 76,
   "id": "7376ead6-1142-4d63-b94c-8c8400e67d28",
   "metadata": {},
   "outputs": [
    {
     "data": {
      "text/plain": [
       "dict_keys(['name', 'feature', 'birth', 'feature2'])"
      ]
     },
     "execution_count": 76,
     "metadata": {},
     "output_type": "execute_result"
    }
   ],
   "source": [
    "dic.keys()"
   ]
  },
  {
   "cell_type": "code",
   "execution_count": 77,
   "id": "50e34894-cb32-403a-9420-42f0fe822507",
   "metadata": {},
   "outputs": [
    {
     "name": "stdout",
     "output_type": "stream",
     "text": [
      "태환\n",
      "잠 ㅈㄴ잔다\n",
      "2월\n",
      "말 ㅈㄴ많다\n"
     ]
    }
   ],
   "source": [
    "for x in dic.keys():\n",
    "    print(dic[x])"
   ]
  },
  {
   "cell_type": "code",
   "execution_count": 79,
   "id": "4871ec84-9cfe-4563-852c-24ae659759fd",
   "metadata": {},
   "outputs": [
    {
     "data": {
      "text/plain": [
       "{}"
      ]
     },
     "execution_count": 79,
     "metadata": {},
     "output_type": "execute_result"
    }
   ],
   "source": [
    "dic.clear()\n",
    "dic"
   ]
  },
  {
   "cell_type": "code",
   "execution_count": 80,
   "id": "503fb461-8f0c-49b5-b16e-3f70ca93b546",
   "metadata": {},
   "outputs": [],
   "source": [
    "a = {'name':'pey', 'phone':'0119993323', 'birth': '1118'}"
   ]
  },
  {
   "cell_type": "code",
   "execution_count": 81,
   "id": "dbe4b6af-3f5d-445f-a08b-9043047e8c7b",
   "metadata": {},
   "outputs": [
    {
     "data": {
      "text/plain": [
       "'pey'"
      ]
     },
     "execution_count": 81,
     "metadata": {},
     "output_type": "execute_result"
    }
   ],
   "source": [
    "a.get('name')"
   ]
  },
  {
   "cell_type": "code",
   "execution_count": 82,
   "id": "db0e3d50-be27-4f4d-8137-f5981758c1c2",
   "metadata": {},
   "outputs": [
    {
     "data": {
      "text/plain": [
       "{1, 2, 3, 4, 5}"
      ]
     },
     "execution_count": 82,
     "metadata": {},
     "output_type": "execute_result"
    }
   ],
   "source": [
    "a = [1,2,3,4,2,3,4,5]\n",
    "s1 = set(a)\n",
    "s1"
   ]
  },
  {
   "cell_type": "code",
   "execution_count": 83,
   "id": "b64942dd-8173-4adc-a2d9-12fff6ad3903",
   "metadata": {},
   "outputs": [
    {
     "name": "stdout",
     "output_type": "stream",
     "text": [
      "1\n",
      "2\n",
      "3\n",
      "4\n",
      "5\n"
     ]
    }
   ],
   "source": [
    "for i in [1,2,3,4,5]:\n",
    "    print(i)"
   ]
  },
  {
   "cell_type": "code",
   "execution_count": 84,
   "id": "c328b85f-78c3-4a42-9114-a43ba1079933",
   "metadata": {},
   "outputs": [
    {
     "name": "stdout",
     "output_type": "stream",
     "text": [
      "0\n",
      "1\n",
      "2\n",
      "3\n",
      "4\n",
      "5\n",
      "6\n",
      "7\n",
      "8\n",
      "9\n"
     ]
    }
   ],
   "source": [
    "for i in range(10):\n",
    "    print(i)"
   ]
  },
  {
   "cell_type": "code",
   "execution_count": 85,
   "id": "045e316f-ee5a-4787-9eb8-8598b5dd9b70",
   "metadata": {},
   "outputs": [
    {
     "name": "stdout",
     "output_type": "stream",
     "text": [
      "0 a\n",
      "1 b\n",
      "2 c\n"
     ]
    }
   ],
   "source": [
    "for i,data in enumerate(['a','b','c']):\n",
    "    print(i,data)"
   ]
  },
  {
   "cell_type": "code",
   "execution_count": 86,
   "id": "cbcd48ce-b14f-4c14-86e9-18e952916d98",
   "metadata": {},
   "outputs": [
    {
     "name": "stdout",
     "output_type": "stream",
     "text": [
      "[3, 6, 9, 12]\n"
     ]
    }
   ],
   "source": [
    "a=[1,2,3,4]\n",
    "result = [num*3 for num in a]\n",
    "print(result)    #리스트 내포"
   ]
  },
  {
   "cell_type": "code",
   "execution_count": null,
   "id": "7ed620c3-50a7-4a5a-9318-ceb6b6750253",
   "metadata": {},
   "outputs": [],
   "source": []
  }
 ],
 "metadata": {
  "kernelspec": {
   "display_name": "Python 3 (ipykernel)",
   "language": "python",
   "name": "python3"
  },
  "language_info": {
   "codemirror_mode": {
    "name": "ipython",
    "version": 3
   },
   "file_extension": ".py",
   "mimetype": "text/x-python",
   "name": "python",
   "nbconvert_exporter": "python",
   "pygments_lexer": "ipython3",
   "version": "3.9.7"
  }
 },
 "nbformat": 4,
 "nbformat_minor": 5
}
