{
 "cells": [
  {
   "cell_type": "raw",
   "id": "09a0dead-1cd4-4f90-a1f9-352c02e75846",
   "metadata": {},
   "source": [
    "quiz 01>\n",
    "주민등록번호 14자리를 입력받아서 성별을 체크합니다.\n",
    "프로그램 종료는 (q,Q)를 누를 때까지 반복처리합니다.\n",
    "입력예 : 123456-1234567\n",
    "조건처리 : -길이값 체크\n",
    "           -성별 체크 (기능값 : 1,2,3,4)\n",
    "출력 : 여성입니다. or 남성입니다."
   ]
  },
  {
   "cell_type": "code",
   "execution_count": 7,
   "id": "8bd7a65a-46a2-449b-88a7-14ab2c185ae4",
   "metadata": {
    "collapsed": true,
    "jupyter": {
     "outputs_hidden": true
    },
    "tags": []
   },
   "outputs": [
    {
     "ename": "SyntaxError",
     "evalue": "invalid syntax (Temp/ipykernel_11692/771112474.py, line 10)",
     "output_type": "error",
     "traceback": [
      "\u001b[1;36m  File \u001b[1;32m\"C:\\Users\\Admin\\AppData\\Local\\Temp/ipykernel_11692/771112474.py\"\u001b[1;36m, line \u001b[1;32m10\u001b[0m\n\u001b[1;33m    elif num == 'q' or 'Q':\u001b[0m\n\u001b[1;37m    ^\u001b[0m\n\u001b[1;31mSyntaxError\u001b[0m\u001b[1;31m:\u001b[0m invalid syntax\n"
     ]
    }
   ],
   "source": [
    "num = input('주민등록번호를 입력하세요. 입력 예) OOOOOO-OOOOOOO \\n')\n",
    "if len(num) == 14:\n",
    "    while True:\n",
    "        if num[7] == '1' or '3':\n",
    "            print('남성입니다.')\n",
    "        elif num[7] == '2' or '4':\n",
    "            print('여성입니다.')\n",
    "        else: \n",
    "            print('정확한 값을 기입해주세요.')\n",
    "    elif num == 'q' or 'Q':\n",
    "        break"
   ]
  },
  {
   "cell_type": "code",
   "execution_count": 18,
   "id": "95b47755-c36b-4f20-b510-5a680e5e48f8",
   "metadata": {},
   "outputs": [
    {
     "name": "stdin",
     "output_type": "stream",
     "text": [
      "\n",
      "\n",
      "주민등록번호를 입력하세요.   입력 예) OOOOOO-OOOOOOO\n",
      " 970000-1000000\n"
     ]
    },
    {
     "name": "stdout",
     "output_type": "stream",
     "text": [
      "       남성입니다.\n"
     ]
    },
    {
     "name": "stdin",
     "output_type": "stream",
     "text": [
      "\n",
      "\n",
      "주민등록번호를 입력하세요.   입력 예) OOOOOO-OOOOOOO\n",
      " q\n"
     ]
    },
    {
     "name": "stdout",
     "output_type": "stream",
     "text": [
      "프로그램 종료\n"
     ]
    }
   ],
   "source": [
    "while True:\n",
    "    num = input('\\n\\n주민등록번호를 입력하세요.   입력 예) OOOOOO-OOOOOOO\\n')\n",
    "    if len(num) == 1 and num.lower() == 'q':\n",
    "        print('프로그램 종료')\n",
    "        break\n",
    "    elif len(num) == 14 and num[6] == '-' and num[7] in ['1','2','3','4']:\n",
    "        if num[7] in ['1','3']:\n",
    "            print('       남성입니다.')\n",
    "        else:\n",
    "            print('       여성입니다.')\n",
    "    else:\n",
    "        print('       주민등록번호를 정확히 입력해주세요.')"
   ]
  },
  {
   "cell_type": "raw",
   "id": "4d03f9e5-0f1a-4ab1-bf24-a0e653951834",
   "metadata": {},
   "source": [
    "quiz 02>\n",
    "로또 번호 추출기\n",
    "총 5세트의 번호를 추출합니다.\n",
    "한 세트당 번호는 6개입니다.\n",
    "번호는 1~45 사이의 번호만 가능합니다.\n",
    "번호는 중복되면 안됩니다.\n",
    "번호를 출력시 오름차순으로 정렬해서 출력합니다."
   ]
  },
  {
   "cell_type": "code",
   "execution_count": 19,
   "id": "867acec9-43de-46b2-9d5d-2e099e503245",
   "metadata": {},
   "outputs": [],
   "source": [
    "import random"
   ]
  },
  {
   "cell_type": "code",
   "execution_count": 101,
   "id": "17da6c45-84b9-40f5-8dce-f69fe10367be",
   "metadata": {},
   "outputs": [
    {
     "data": {
      "text/plain": [
       "41"
      ]
     },
     "execution_count": 101,
     "metadata": {},
     "output_type": "execute_result"
    }
   ],
   "source": [
    "random.randint(1,45)"
   ]
  },
  {
   "cell_type": "code",
   "execution_count": 102,
   "id": "a8cff288-eb2b-457b-865a-7ff8a80dea33",
   "metadata": {},
   "outputs": [
    {
     "data": {
      "text/plain": [
       "[1, 2, 4, 6]"
      ]
     },
     "execution_count": 102,
     "metadata": {},
     "output_type": "execute_result"
    }
   ],
   "source": [
    "a = [2,4,6,1]\n",
    "a.sort()\n",
    "a"
   ]
  },
  {
   "cell_type": "code",
   "execution_count": 196,
   "id": "c74e9814-6a53-42d0-85c4-2f07b5701af6",
   "metadata": {},
   "outputs": [
    {
     "name": "stdout",
     "output_type": "stream",
     "text": [
      "[21, 31, 35, 37, 38, 43]\n",
      "[5, 9, 16, 37, 38, 40]\n",
      "[2, 5, 16, 27, 35, 45]\n",
      "[1, 5, 8, 9, 18, 31]\n",
      "[12, 22, 28, 35, 41, 42]\n"
     ]
    }
   ],
   "source": [
    "import random\n",
    "for x in range(5):\n",
    "    a = []\n",
    "    ran = random.randint(1,45)\n",
    "\n",
    "    for i in range(6):\n",
    "        while ran in a:\n",
    "            ran = random.randint(1,45)\n",
    "        a.append(ran)\n",
    "    a.sort()\n",
    "    print(a)"
   ]
  },
  {
   "cell_type": "code",
   "execution_count": 208,
   "id": "2efcbdd3-7169-4f17-be18-043027c50f8e",
   "metadata": {},
   "outputs": [
    {
     "name": "stdout",
     "output_type": "stream",
     "text": [
      "[3, 8, 15, 18, 28, 43]\n",
      "[3, 12, 14, 28, 31, 34]\n",
      "[2, 17, 20, 22, 34, 40]\n",
      "[12, 15, 24, 30, 36, 45]\n",
      "[4, 8, 18, 23, 32, 36]\n"
     ]
    }
   ],
   "source": [
    "import random                   #내 풀이\n",
    "for i in range(5):\n",
    "    lotto = [0,0,0,0,0,0]\n",
    "    for x in range(6):\n",
    "        num = 0\n",
    "        while num in lotto:\n",
    "            num = random.randint(1,45)\n",
    "        lotto[x] = num\n",
    "    lotto.sort()\n",
    "    print(lotto)"
   ]
  },
  {
   "cell_type": "code",
   "execution_count": 207,
   "id": "05e3e295-23a0-4606-8c27-56f458eebcca",
   "metadata": {},
   "outputs": [
    {
     "name": "stdout",
     "output_type": "stream",
     "text": [
      "[10, 21, 27, 29, 39, 44]\n",
      "[6, 13, 28, 29, 30, 31]\n",
      "[16, 20, 23, 35, 37, 41]\n",
      "[3, 14, 16, 21, 28, 44]\n",
      "[8, 11, 15, 29, 34, 45]\n"
     ]
    }
   ],
   "source": [
    "for i in range(5):\n",
    "    lotto = random.sample(range(1,46),6)\n",
    "    lotto.sort()\n",
    "    print(lotto)"
   ]
  },
  {
   "cell_type": "raw",
   "id": "89fa347f-b2a4-42e4-8468-45e4600e3091",
   "metadata": {},
   "source": [
    "quiz 03> 커피메뉴 관리 프로그램\n",
    "데이터 저장은 딕셔너리로 {'메뉴명':가격, 'coffee':2000}\n",
    "프로그램에서 사용할 메뉴\n",
    " 1. 메뉴입력  2. 메뉴수정  3. 메뉴목록  4. 메뉴삭제  5. 프로그램종료\n",
    "  - 메뉴입력 : 메뉴명과 가격을 입력받아서 저장\n",
    "  - 메뉴수정 : 메뉴명을 확인하고 있는 메뉴에 가격을 입력받아 수정\n",
    "  - 메뉴목록 : 저장된 메뉴명과 가격을 출력(천단위 구분기호표기), 메뉴명 순서대로 출력\n",
    "  - 메뉴삭제 : 메뉴명을 확인하고 있는 메뉴에서 삭제\n",
    "  - 프로그램종료 : 프로그램을 종료하는 메시지를 출력하고 종료\n",
    "  - 메뉴 1~5까지만 입력받고 다른 값이 들어오면 관련 에러 메시지를 출력한다.\n",
    "  - 가격은 숫자로 입력해야됨"
   ]
  },
  {
   "cell_type": "code",
   "execution_count": 209,
   "id": "9d88ac07-78a7-4798-83e5-bacfc4bd83f5",
   "metadata": {},
   "outputs": [
    {
     "data": {
      "text/plain": [
       "['Cocoa', 'Ice Americano', 'Latte']"
      ]
     },
     "execution_count": 209,
     "metadata": {},
     "output_type": "execute_result"
    }
   ],
   "source": [
    "# sorted()\n",
    "list1 = [5,2,3,1,4]\n",
    "dict1 = {'Ice Americano':3000, 'Latte':4000, 'Cocoa':3500}\n",
    "sorted(dict1)"
   ]
  },
  {
   "cell_type": "code",
   "execution_count": 210,
   "id": "94793cf4-5a28-419f-97c7-f50c8f83ace2",
   "metadata": {},
   "outputs": [],
   "source": [
    "def key1(X):\n",
    "    return X[1]"
   ]
  },
  {
   "cell_type": "code",
   "execution_count": 212,
   "id": "562b80f4-43f5-45ab-b6c2-e206570313ea",
   "metadata": {},
   "outputs": [
    {
     "data": {
      "text/plain": [
       "[('Ice Americano', 3000), ('Cocoa', 3500), ('Latte', 4000)]"
      ]
     },
     "execution_count": 212,
     "metadata": {},
     "output_type": "execute_result"
    }
   ],
   "source": [
    "sorted(dict1.items(),key=lambda data:data[1])"
   ]
  },
  {
   "cell_type": "code",
   "execution_count": 213,
   "id": "0e323ed1-320c-40e9-a79d-e78428bd049b",
   "metadata": {},
   "outputs": [],
   "source": [
    "student_tu = [('john', 'A',15),\n",
    "              ('jane', 'B',12),\n",
    "              ('dave', 'B',10)]"
   ]
  },
  {
   "cell_type": "code",
   "execution_count": 214,
   "id": "f668c738-0374-4ff7-bd80-8f7756472429",
   "metadata": {},
   "outputs": [
    {
     "data": {
      "text/plain": [
       "[('john', 'A', 15), ('jane', 'B', 12), ('dave', 'B', 10)]"
      ]
     },
     "execution_count": 214,
     "metadata": {},
     "output_type": "execute_result"
    }
   ],
   "source": [
    "sorted(student_tu,key=lambda x :x[2],reverse=True)"
   ]
  },
  {
   "cell_type": "code",
   "execution_count": 223,
   "id": "56376f5c-40b4-4b9f-8ba7-2cc85c383c8c",
   "metadata": {},
   "outputs": [
    {
     "name": "stdin",
     "output_type": "stream",
     "text": [
      "사용할 옵션 번호를 입력하시오. \n",
      "1.메뉴입력  2.메뉴수정  3.메뉴목록  4.메뉴삭제  5.프로그램종료 1\n",
      "추가할 메뉴명을 입력하시오.  입력 예) Coffee\n",
      " Cake\n",
      "추가할 메뉴의 가격을 입력하시오.  입력 예) 2000\n",
      " 5000\n"
     ]
    },
    {
     "data": {
      "text/plain": [
       "{'Ice Americano': '3000', 'Latte': '4000', 'Cocoa': '3500', 'Cake': '5000'}"
      ]
     },
     "execution_count": 223,
     "metadata": {},
     "output_type": "execute_result"
    }
   ],
   "source": [
    "menu = input('사용할 옵션 번호를 입력하시오. \\n1.메뉴입력  2.메뉴수정  3.메뉴목록  4.메뉴삭제  5.프로그램종료')\n",
    "\n",
    "a = {'Ice Americano':'3000', 'Latte':'4000', 'Cocoa':'3500'}\n",
    "if menu == '1':\n",
    "    add1 = input('추가할 메뉴명을 입력하시오.  입력 예) Coffee\\n')\n",
    "    add2 = input('추가할 메뉴의 가격을 입력하시오.  입력 예) 2000\\n')\n",
    "    a[add1] = add2\n",
    "if menu == '2':\n",
    "if menu == '3':\n",
    "if menu == '4':\n",
    "    del1 = input('삭제할 메뉴명을 입력하시오.  입력 예) Ice Americano\\n')\n",
    "    if del1 == \n",
    "    del a[del1]\n",
    "a"
   ]
  },
  {
   "cell_type": "code",
   "execution_count": 227,
   "id": "a3506316-39bf-4f85-9d0e-214994456773",
   "metadata": {},
   "outputs": [
    {
     "name": "stdin",
     "output_type": "stream",
     "text": [
      "\n",
      "---------------------------------------------------------------\n",
      "1. 메뉴입력  2. 메뉴수정  3. 메뉴목록  4. 메뉴삭제  5. 프로그램종료\n",
      "---------------------------------------------------------------\n",
      "메뉴선택>>> 5\n"
     ]
    },
    {
     "name": "stdout",
     "output_type": "stream",
     "text": [
      "프로그램을 종료합니다.\n"
     ]
    }
   ],
   "source": [
    "menu = {'아이스아메리카노':3000,'라떼':4000,'코코아':3500}\n",
    "while True:\n",
    "    choice = input('''\n",
    "---------------------------------------------------------------\n",
    "1. 메뉴입력  2. 메뉴수정  3. 메뉴목록  4. 메뉴삭제  5. 프로그램종료\n",
    "---------------------------------------------------------------\n",
    "메뉴선택>>>''')\n",
    "    if choice == '1':\n",
    "        pass\n",
    "    elif choice == '2':\n",
    "        pass\n",
    "    elif choice == '3':\n",
    "        pass\n",
    "    elif choice == '4':\n",
    "        pass\n",
    "    elif choice == '5':\n",
    "        print('프로그램을 종료합니다.')\n",
    "        break\n",
    "    else: \n",
    "        print('메뉴를 잘못 선택 하셨습니다.')"
   ]
  },
  {
   "cell_type": "code",
   "execution_count": 261,
   "id": "e704b056-9deb-4ba4-9099-32a1db4ebec7",
   "metadata": {},
   "outputs": [
    {
     "ename": "FileNotFoundError",
     "evalue": "[Errno 2] No such file or directory: 'menu.json'",
     "output_type": "error",
     "traceback": [
      "\u001b[1;31m---------------------------------------------------------------------------\u001b[0m",
      "\u001b[1;31mFileNotFoundError\u001b[0m                         Traceback (most recent call last)",
      "\u001b[1;32m~\\AppData\\Local\\Temp/ipykernel_11692/3348794293.py\u001b[0m in \u001b[0;36m<module>\u001b[1;34m\u001b[0m\n\u001b[0;32m      1\u001b[0m \u001b[1;32mimport\u001b[0m \u001b[0mjson\u001b[0m\u001b[1;33m\u001b[0m\u001b[1;33m\u001b[0m\u001b[0m\n\u001b[1;32m----> 2\u001b[1;33m \u001b[0mf\u001b[0m \u001b[1;33m=\u001b[0m \u001b[0mopen\u001b[0m\u001b[1;33m(\u001b[0m\u001b[1;34m'menu.json'\u001b[0m\u001b[1;33m,\u001b[0m\u001b[1;34m'r'\u001b[0m\u001b[1;33m)\u001b[0m\u001b[1;33m\u001b[0m\u001b[1;33m\u001b[0m\u001b[0m\n\u001b[0m\u001b[0;32m      3\u001b[0m \u001b[0mmenu\u001b[0m \u001b[1;33m=\u001b[0m \u001b[0mjson\u001b[0m\u001b[1;33m.\u001b[0m\u001b[0mload\u001b[0m\u001b[1;33m(\u001b[0m\u001b[0mf\u001b[0m\u001b[1;33m)\u001b[0m\u001b[1;33m\u001b[0m\u001b[1;33m\u001b[0m\u001b[0m\n\u001b[0;32m      4\u001b[0m \u001b[0mf\u001b[0m\u001b[1;33m.\u001b[0m\u001b[0mclose\u001b[0m\u001b[1;33m(\u001b[0m\u001b[1;33m)\u001b[0m\u001b[1;33m\u001b[0m\u001b[1;33m\u001b[0m\u001b[0m\n\u001b[0;32m      5\u001b[0m \u001b[1;33m\u001b[0m\u001b[0m\n",
      "\u001b[1;31mFileNotFoundError\u001b[0m: [Errno 2] No such file or directory: 'menu.json'"
     ]
    }
   ],
   "source": [
    "import json\n",
    "f = open('menu.json','r')\n",
    "menu = json.load(f)\n",
    "f.close()\n",
    "\n",
    "menu = {'아이스아메리카노':3000,'라떼':4000,'코코아':3500}\n",
    "while True:\n",
    "    choice = input('''\n",
    "---------------------------------------------------------------\n",
    "1. 메뉴입력  2. 메뉴수정  3. 메뉴목록  4. 메뉴삭제  5. 프로그램종료\n",
    "---------------------------------------------------------------\n",
    "메뉴선택>>>''')\n",
    "    if choice == '1':\n",
    "        print('현재메뉴 :',list(menu.keys()))\n",
    "        name = input('추가할 메뉴명을 입력하세요.')\n",
    "        price = 'a'\n",
    "        while not price.isdecimal():\n",
    "            price = input('추가할 메뉴의 가격을 입력하세요.')\n",
    "        menu[name]=int(price)\n",
    "    elif choice == '2':\n",
    "        print('현재메뉴 :',list(menu.keys()))\n",
    "        while not name in menu.keys():\n",
    "            name = input('수정할 메뉴명을 입력하세요.')\n",
    "        menu[name]=int(price)\n",
    "    elif choice == '3':\n",
    "        print('------ menu ------')\n",
    "        for item in sorted(menu.items(),key=lambda data:data[1],reverse=True):\n",
    "            print(f'{item[0]}:{item[1]:10,}')\n",
    "    elif choice == '4':\n",
    "        print('현재메뉴 :',list(menu.keys()))\n",
    "        name = ''\n",
    "        while not name in menu.keys():\n",
    "            name = input('삭제할 메뉴명을 입력하세요.')\n",
    "        del menu[name]\n",
    "    elif choice == '5':\n",
    "        print('프로그램을 종료합니다.')\n",
    "        f = open('menu.sjon','w')\n",
    "        json.dump(menu,f)\n",
    "        f.close()\n",
    "        break\n",
    "    else: \n",
    "        print('메뉴를 잘못 선택 하셨습니다.')"
   ]
  },
  {
   "cell_type": "raw",
   "id": "c10d7036-274b-4476-be79-6e40d7c7d70b",
   "metadata": {},
   "source": [
    "quiz 04>\n",
    "quiz 03의 내용을 저장하고 읽기"
   ]
  },
  {
   "cell_type": "code",
   "execution_count": 239,
   "id": "adf84e6b-4ca3-481b-8a5a-ab9d31bd4529",
   "metadata": {},
   "outputs": [],
   "source": [
    "file = open('hello.txt','w')"
   ]
  },
  {
   "cell_type": "code",
   "execution_count": 240,
   "id": "33fc826a-702b-45e8-a0c9-15cb2fdd12d6",
   "metadata": {},
   "outputs": [
    {
     "data": {
      "text/plain": [
       "12"
      ]
     },
     "execution_count": 240,
     "metadata": {},
     "output_type": "execute_result"
    }
   ],
   "source": [
    "file.write('hello world!')"
   ]
  },
  {
   "cell_type": "code",
   "execution_count": 241,
   "id": "a636976a-0a54-4865-be2f-3815518814eb",
   "metadata": {},
   "outputs": [],
   "source": [
    "file.close()"
   ]
  },
  {
   "cell_type": "code",
   "execution_count": 244,
   "id": "2d49778b-1abf-4627-adfd-6a22f8a38656",
   "metadata": {},
   "outputs": [],
   "source": [
    "file = open('hello.txt','r')\n",
    "text = file.readlines()"
   ]
  },
  {
   "cell_type": "code",
   "execution_count": 245,
   "id": "11e327cb-bbe0-464d-bc7d-eaad298617ec",
   "metadata": {},
   "outputs": [
    {
     "data": {
      "text/plain": [
       "['hello world!']"
      ]
     },
     "execution_count": 245,
     "metadata": {},
     "output_type": "execute_result"
    }
   ],
   "source": [
    "text"
   ]
  },
  {
   "cell_type": "code",
   "execution_count": 247,
   "id": "b8525537-e11a-4773-8894-8e450e468fdd",
   "metadata": {},
   "outputs": [],
   "source": [
    "file.close()"
   ]
  },
  {
   "cell_type": "code",
   "execution_count": 248,
   "id": "df4e96e4-f64e-4159-8479-09f917f2c448",
   "metadata": {},
   "outputs": [],
   "source": [
    "import pickle"
   ]
  },
  {
   "cell_type": "code",
   "execution_count": 249,
   "id": "89b9baff-6562-4603-87ef-e040878ca6f5",
   "metadata": {},
   "outputs": [],
   "source": [
    "f = open('menu.pickle','wb')\n",
    "pickle.dump(menu,f)\n",
    "f.close()"
   ]
  },
  {
   "cell_type": "code",
   "execution_count": 250,
   "id": "b4228346-d0a9-42fc-bf9e-4f1152d4bcb7",
   "metadata": {},
   "outputs": [],
   "source": [
    "f = open('menu.pickle','rb')\n",
    "data = pickle.load(f)\n",
    "f.close()"
   ]
  },
  {
   "cell_type": "code",
   "execution_count": 251,
   "id": "e9caf7b9-d913-4d22-a309-3d5d2102fce9",
   "metadata": {},
   "outputs": [
    {
     "data": {
      "text/plain": [
       "dict"
      ]
     },
     "execution_count": 251,
     "metadata": {},
     "output_type": "execute_result"
    }
   ],
   "source": [
    "type(data)"
   ]
  },
  {
   "cell_type": "code",
   "execution_count": 252,
   "id": "04cc6801-c1a2-480b-a269-c9fb51b17acd",
   "metadata": {},
   "outputs": [
    {
     "data": {
      "text/plain": [
       "{'아이스아메리카노': 3000, '라떼': 4000, '코코아': 3500}"
      ]
     },
     "execution_count": 252,
     "metadata": {},
     "output_type": "execute_result"
    }
   ],
   "source": [
    "data"
   ]
  },
  {
   "cell_type": "code",
   "execution_count": 253,
   "id": "8a44e8d1-3913-49eb-99fb-4f15308c28d0",
   "metadata": {},
   "outputs": [],
   "source": [
    "import json\n",
    "with open('json','w')as f:\n",
    "    json.dump(menu,f)"
   ]
  },
  {
   "cell_type": "code",
   "execution_count": 254,
   "id": "345a4fd0-cf6e-4a2b-8697-316ccdae9866",
   "metadata": {},
   "outputs": [
    {
     "data": {
      "text/plain": [
       "{'아이스아메리카노': 3000, '라떼': 4000, '코코아': 3500}"
      ]
     },
     "execution_count": 254,
     "metadata": {},
     "output_type": "execute_result"
    }
   ],
   "source": [
    "data"
   ]
  },
  {
   "cell_type": "code",
   "execution_count": 256,
   "id": "564b51f9-6d66-4d74-a295-ed2b6c7874d7",
   "metadata": {},
   "outputs": [],
   "source": [
    "with open('json','r')as f:\n",
    "    data = json.load(f)"
   ]
  },
  {
   "cell_type": "code",
   "execution_count": 257,
   "id": "a593233f-2606-47f3-b7ef-fdd398c17298",
   "metadata": {},
   "outputs": [
    {
     "data": {
      "text/plain": [
       "{'아이스아메리카노': 3000, '라떼': 4000, '코코아': 3500}"
      ]
     },
     "execution_count": 257,
     "metadata": {},
     "output_type": "execute_result"
    }
   ],
   "source": [
    "data"
   ]
  },
  {
   "cell_type": "raw",
   "id": "ccfe3808-1546-47e0-bde5-340f76aaf61f",
   "metadata": {},
   "source": [
    "quiz 04>\n",
    "quiz 03의 내용을 프로그램 시작시 읽어오고 저장"
   ]
  },
  {
   "cell_type": "raw",
   "id": "6bc81c75-915a-4605-94a6-e255998dcc39",
   "metadata": {},
   "source": [
    "quiz 05>\n",
    "타자게임\n",
    "- 데이터는 word = ['cat','dog','fox','monkey','mouse','panda','frog','snake','wolf']\n",
    "- 문제는 총 5문제가 나옵니다.\n",
    "- 나온 문제는 맞출때까지 계속됩니다.\n",
    "- 문제를 맞추면 다음 문제가 나옵니다.\n",
    "- 문제 무작위출제"
   ]
  },
  {
   "cell_type": "code",
   "execution_count": 270,
   "id": "ad9bbe3c-7382-4b70-9894-817c7200de30",
   "metadata": {},
   "outputs": [
    {
     "data": {
      "text/plain": [
       "'panda'"
      ]
     },
     "execution_count": 270,
     "metadata": {},
     "output_type": "execute_result"
    }
   ],
   "source": [
    "import random\n",
    "word = ['cat','dog','fox','monkey','mouse','panda','frog','snake','wolf']\n",
    "random.choice(word)"
   ]
  },
  {
   "cell_type": "code",
   "execution_count": 275,
   "id": "c07f9a70-0fb8-42b4-b383-90264cf0f861",
   "metadata": {},
   "outputs": [
    {
     "data": {
      "text/plain": [
       "'dog'"
      ]
     },
     "execution_count": 275,
     "metadata": {},
     "output_type": "execute_result"
    }
   ],
   "source": [
    "word[random.randint(0,len(word)-1)]"
   ]
  },
  {
   "cell_type": "code",
   "execution_count": 279,
   "id": "afed7061-0651-4c38-847a-51a1000ee614",
   "metadata": {},
   "outputs": [
    {
     "data": {
      "text/plain": [
       "8"
      ]
     },
     "execution_count": 279,
     "metadata": {},
     "output_type": "execute_result"
    }
   ],
   "source": [
    "random.randint(0,len(word)-1)"
   ]
  },
  {
   "cell_type": "code",
   "execution_count": 296,
   "id": "896c6d3e-5283-4497-a240-fbe02d1f6c0b",
   "metadata": {
    "tags": []
   },
   "outputs": [
    {
     "name": "stdin",
     "output_type": "stream",
     "text": [
      "엔터누르면 시작 \n"
     ]
    },
    {
     "name": "stdout",
     "output_type": "stream",
     "text": [
      "1번 문제!\n"
     ]
    },
    {
     "name": "stdin",
     "output_type": "stream",
     "text": [
      "fox fox\n"
     ]
    },
    {
     "name": "stdout",
     "output_type": "stream",
     "text": [
      "정답!\n",
      "2번 문제!\n"
     ]
    },
    {
     "name": "stdin",
     "output_type": "stream",
     "text": [
      "cat ca\n"
     ]
    },
    {
     "name": "stdout",
     "output_type": "stream",
     "text": [
      "틀렸습니다. 새로운 문제를 출제합니다.\n"
     ]
    },
    {
     "name": "stdin",
     "output_type": "stream",
     "text": [
      "monkey monkey\n"
     ]
    },
    {
     "name": "stdout",
     "output_type": "stream",
     "text": [
      "정답!\n",
      "3번 문제!\n"
     ]
    },
    {
     "name": "stdin",
     "output_type": "stream",
     "text": [
      "panda panda\n"
     ]
    },
    {
     "name": "stdout",
     "output_type": "stream",
     "text": [
      "정답!\n",
      "4번 문제!\n"
     ]
    },
    {
     "name": "stdin",
     "output_type": "stream",
     "text": [
      "wolf wolf\n"
     ]
    },
    {
     "name": "stdout",
     "output_type": "stream",
     "text": [
      "정답!\n",
      "5번 문제!\n"
     ]
    },
    {
     "name": "stdin",
     "output_type": "stream",
     "text": [
      "dog dog\n"
     ]
    },
    {
     "name": "stdout",
     "output_type": "stream",
     "text": [
      "정답!\n",
      "문제를 모두 풀었습니다 ㅎㅎ\n",
      "9초\n"
     ]
    }
   ],
   "source": [
    "import random,time  #내가 푼 답\n",
    "word = ['cat','dog','fox','monkey','mouse','panda','frog','snake','wolf']\n",
    "input('엔터누르면 시작')\n",
    "start = time.time()\n",
    "\n",
    "for i in range(1,6):\n",
    "    print('%s번 문제!'%(i))\n",
    "    while True:\n",
    "        ran = word[random.randint(0,len(word)-1)]\n",
    "        answer = input('%s'%(ran))\n",
    "        if not answer == ran:\n",
    "            print('틀렸습니다. 새로운 문제를 출제합니다.')\n",
    "        else:\n",
    "            print('정답!')\n",
    "            break\n",
    "print('문제를 모두 풀었습니다 ㅎㅎ')\n",
    "end=time.time()\n",
    "print(f'{end-start:.0f}초')"
   ]
  },
  {
   "cell_type": "code",
   "execution_count": 286,
   "id": "f969e3b7-65e2-4986-8b36-e050c1e48309",
   "metadata": {},
   "outputs": [
    {
     "name": "stdout",
     "output_type": "stream",
     "text": [
      "1번\n",
      "monkey\n"
     ]
    },
    {
     "name": "stdin",
     "output_type": "stream",
     "text": [
      " monkey\n"
     ]
    },
    {
     "name": "stdout",
     "output_type": "stream",
     "text": [
      "통과!\n",
      "2번\n",
      "fox\n"
     ]
    },
    {
     "name": "stdin",
     "output_type": "stream",
     "text": [
      " fox\n"
     ]
    },
    {
     "name": "stdout",
     "output_type": "stream",
     "text": [
      "통과!\n",
      "3번\n",
      "monkey\n"
     ]
    },
    {
     "name": "stdin",
     "output_type": "stream",
     "text": [
      " monkey\n"
     ]
    },
    {
     "name": "stdout",
     "output_type": "stream",
     "text": [
      "통과!\n",
      "4번\n",
      "mouse\n"
     ]
    },
    {
     "name": "stdin",
     "output_type": "stream",
     "text": [
      " mouse\n"
     ]
    },
    {
     "name": "stdout",
     "output_type": "stream",
     "text": [
      "통과!\n",
      "5번\n",
      "snake\n"
     ]
    },
    {
     "name": "stdin",
     "output_type": "stream",
     "text": [
      " snake\n"
     ]
    },
    {
     "name": "stdout",
     "output_type": "stream",
     "text": [
      "통과!\n",
      "5문제 다 맞췄습니다.\n"
     ]
    }
   ],
   "source": [
    "import random  #강사님 답\n",
    "\n",
    "word = ['cat','dog','fox','monkey','mouse','panda','frog','snake','wolf']\n",
    "n=1\n",
    "quiz = random.choice(word)\n",
    "while n <= 5:\n",
    "    print(f'{n}번')\n",
    "    print(quiz)\n",
    "    x= input()\n",
    "    if quiz == x:\n",
    "        print('통과!')\n",
    "        n +=1\n",
    "        quiz = random.choice(word)\n",
    "    else:\n",
    "        print('오타! 다시도전!')\n",
    "print('5문제 다 맞췄습니다.')"
   ]
  },
  {
   "cell_type": "code",
   "execution_count": 295,
   "id": "4ed6089a-dc0d-45de-9660-5474c4344c52",
   "metadata": {
    "collapsed": true,
    "jupyter": {
     "outputs_hidden": true
    },
    "tags": []
   },
   "outputs": [
    {
     "name": "stdin",
     "output_type": "stream",
     "text": [
      "시작!(enter) \n"
     ]
    },
    {
     "name": "stdout",
     "output_type": "stream",
     "text": [
      "1번\n",
      "frog\n"
     ]
    },
    {
     "name": "stdin",
     "output_type": "stream",
     "text": [
      " m\n"
     ]
    },
    {
     "name": "stdout",
     "output_type": "stream",
     "text": [
      "오타! 다시도전!\n",
      "1번\n",
      "frog\n"
     ]
    },
    {
     "name": "stdin",
     "output_type": "stream",
     "text": [
      " m\n"
     ]
    },
    {
     "name": "stdout",
     "output_type": "stream",
     "text": [
      "오타! 다시도전!\n",
      "1번\n",
      "frog\n"
     ]
    },
    {
     "name": "stdin",
     "output_type": "stream",
     "text": [
      " m\n"
     ]
    },
    {
     "name": "stdout",
     "output_type": "stream",
     "text": [
      "오타! 다시도전!\n",
      "1번\n",
      "frog\n"
     ]
    },
    {
     "name": "stdin",
     "output_type": "stream",
     "text": [
      " m\n"
     ]
    },
    {
     "name": "stdout",
     "output_type": "stream",
     "text": [
      "오타! 다시도전!\n",
      "1번\n",
      "frog\n"
     ]
    },
    {
     "ename": "KeyboardInterrupt",
     "evalue": "Interrupted by user",
     "output_type": "error",
     "traceback": [
      "\u001b[1;31m---------------------------------------------------------------------------\u001b[0m",
      "\u001b[1;31mKeyboardInterrupt\u001b[0m                         Traceback (most recent call last)",
      "\u001b[1;32m~\\AppData\\Local\\Temp/ipykernel_11692/2805848370.py\u001b[0m in \u001b[0;36m<module>\u001b[1;34m\u001b[0m\n\u001b[0;32m      9\u001b[0m     \u001b[0mprint\u001b[0m\u001b[1;33m(\u001b[0m\u001b[1;34mf'{n}번'\u001b[0m\u001b[1;33m)\u001b[0m\u001b[1;33m\u001b[0m\u001b[1;33m\u001b[0m\u001b[0m\n\u001b[0;32m     10\u001b[0m     \u001b[0mprint\u001b[0m\u001b[1;33m(\u001b[0m\u001b[0mquiz\u001b[0m\u001b[1;33m)\u001b[0m\u001b[1;33m\u001b[0m\u001b[1;33m\u001b[0m\u001b[0m\n\u001b[1;32m---> 11\u001b[1;33m     \u001b[0mx\u001b[0m\u001b[1;33m=\u001b[0m \u001b[0minput\u001b[0m\u001b[1;33m(\u001b[0m\u001b[1;33m)\u001b[0m\u001b[1;33m\u001b[0m\u001b[1;33m\u001b[0m\u001b[0m\n\u001b[0m\u001b[0;32m     12\u001b[0m     \u001b[1;32mif\u001b[0m \u001b[0mquiz\u001b[0m \u001b[1;33m==\u001b[0m \u001b[0mx\u001b[0m\u001b[1;33m:\u001b[0m\u001b[1;33m\u001b[0m\u001b[1;33m\u001b[0m\u001b[0m\n\u001b[0;32m     13\u001b[0m         \u001b[0mprint\u001b[0m\u001b[1;33m(\u001b[0m\u001b[1;34m'통과!'\u001b[0m\u001b[1;33m)\u001b[0m\u001b[1;33m\u001b[0m\u001b[1;33m\u001b[0m\u001b[0m\n",
      "\u001b[1;32m~\\anaconda3\\lib\\site-packages\\ipykernel\\kernelbase.py\u001b[0m in \u001b[0;36mraw_input\u001b[1;34m(self, prompt)\u001b[0m\n\u001b[0;32m   1004\u001b[0m                 \u001b[1;34m\"raw_input was called, but this frontend does not support input requests.\"\u001b[0m\u001b[1;33m\u001b[0m\u001b[1;33m\u001b[0m\u001b[0m\n\u001b[0;32m   1005\u001b[0m             )\n\u001b[1;32m-> 1006\u001b[1;33m         return self._input_request(\n\u001b[0m\u001b[0;32m   1007\u001b[0m             \u001b[0mstr\u001b[0m\u001b[1;33m(\u001b[0m\u001b[0mprompt\u001b[0m\u001b[1;33m)\u001b[0m\u001b[1;33m,\u001b[0m\u001b[1;33m\u001b[0m\u001b[1;33m\u001b[0m\u001b[0m\n\u001b[0;32m   1008\u001b[0m             \u001b[0mself\u001b[0m\u001b[1;33m.\u001b[0m\u001b[0m_parent_ident\u001b[0m\u001b[1;33m[\u001b[0m\u001b[1;34m\"shell\"\u001b[0m\u001b[1;33m]\u001b[0m\u001b[1;33m,\u001b[0m\u001b[1;33m\u001b[0m\u001b[1;33m\u001b[0m\u001b[0m\n",
      "\u001b[1;32m~\\anaconda3\\lib\\site-packages\\ipykernel\\kernelbase.py\u001b[0m in \u001b[0;36m_input_request\u001b[1;34m(self, prompt, ident, parent, password)\u001b[0m\n\u001b[0;32m   1049\u001b[0m             \u001b[1;32mexcept\u001b[0m \u001b[0mKeyboardInterrupt\u001b[0m\u001b[1;33m:\u001b[0m\u001b[1;33m\u001b[0m\u001b[1;33m\u001b[0m\u001b[0m\n\u001b[0;32m   1050\u001b[0m                 \u001b[1;31m# re-raise KeyboardInterrupt, to truncate traceback\u001b[0m\u001b[1;33m\u001b[0m\u001b[1;33m\u001b[0m\u001b[0m\n\u001b[1;32m-> 1051\u001b[1;33m                 \u001b[1;32mraise\u001b[0m \u001b[0mKeyboardInterrupt\u001b[0m\u001b[1;33m(\u001b[0m\u001b[1;34m\"Interrupted by user\"\u001b[0m\u001b[1;33m)\u001b[0m \u001b[1;32mfrom\u001b[0m \u001b[1;32mNone\u001b[0m\u001b[1;33m\u001b[0m\u001b[1;33m\u001b[0m\u001b[0m\n\u001b[0m\u001b[0;32m   1052\u001b[0m             \u001b[1;32mexcept\u001b[0m \u001b[0mException\u001b[0m\u001b[1;33m:\u001b[0m\u001b[1;33m\u001b[0m\u001b[1;33m\u001b[0m\u001b[0m\n\u001b[0;32m   1053\u001b[0m                 \u001b[0mself\u001b[0m\u001b[1;33m.\u001b[0m\u001b[0mlog\u001b[0m\u001b[1;33m.\u001b[0m\u001b[0mwarning\u001b[0m\u001b[1;33m(\u001b[0m\u001b[1;34m\"Invalid Message:\"\u001b[0m\u001b[1;33m,\u001b[0m \u001b[0mexc_info\u001b[0m\u001b[1;33m=\u001b[0m\u001b[1;32mTrue\u001b[0m\u001b[1;33m)\u001b[0m\u001b[1;33m\u001b[0m\u001b[1;33m\u001b[0m\u001b[0m\n",
      "\u001b[1;31mKeyboardInterrupt\u001b[0m: Interrupted by user"
     ]
    }
   ],
   "source": [
    "import random, time  #강사님 답\n",
    "\n",
    "word = ['cat','dog','fox','monkey','mouse','panda','frog','snake','wolf']\n",
    "n=1\n",
    "quiz = random.choice(word)\n",
    "input('시작!(enter)')\n",
    "start = time.time()\n",
    "while n <= 5:\n",
    "    print(f'{n}번')\n",
    "    print(quiz)\n",
    "    x= input()\n",
    "    if quiz == x:\n",
    "        print('통과!')\n",
    "        n +=1\n",
    "        quiz = random.choice(word)\n",
    "    else:\n",
    "        print('오타! 다시도전!')\n",
    "print('5문제 다 맞췄습니다.')\n",
    "end=time.time()\n",
    "print(f'{end-start:.0f}초')"
   ]
  },
  {
   "cell_type": "raw",
   "id": "caf9bb69-7c5a-4955-8ad4-844203cc60bf",
   "metadata": {},
   "source": [
    "quiz 6>\n",
    "앞에 타자 게임을 활용\n",
    "- 1. 문제추가  2. 타자게임  3. 등수리스트  4. 종료하기\n",
    "- 문제추가 후 데이터는 파일 저장\n",
    "- 문제추가는 단어를 입력받아서 중복되지 않게 추가\n",
    "- 타자게임은 시간을 체크하고, 걸린시간을 사용자명과 함께 저장합니다. (딕셔너리로 저장: 등수데이터)\n",
    "- 등수리스트는 걸린시간이 적은 순서대로 정렬해서 출력합니다.\n",
    "- 종료하기는 등수리스트를 저장하고 진행합니다.\n",
    "- 프로그램이 시작될 때 문제와 등수정보를 읽어 옵니다."
   ]
  },
  {
   "cell_type": "code",
   "execution_count": 301,
   "id": "13181794-19bb-4856-ab3e-eedeba159026",
   "metadata": {
    "tags": []
   },
   "outputs": [
    {
     "name": "stdin",
     "output_type": "stream",
     "text": [
      "\n",
      "------------------------------------------------------\n",
      "1. 문제추가  2. 타자게임  3. 등수리스트  4. 프로그램종료  \n",
      "------------------------------------------------------\n",
      "메뉴 번호를 선택해주세요.  1\n",
      "\n",
      "추가할 단어를 기입해주세요.   akakak\n"
     ]
    },
    {
     "name": "stdout",
     "output_type": "stream",
     "text": [
      "문제를 추가하였습니다. (추가 단어 : akakak)\n"
     ]
    },
    {
     "name": "stdin",
     "output_type": "stream",
     "text": [
      "\n",
      "------------------------------------------------------\n",
      "1. 문제추가  2. 타자게임  3. 등수리스트  4. 프로그램종료  \n",
      "------------------------------------------------------\n",
      "메뉴 번호를 선택해주세요.  4\n"
     ]
    },
    {
     "name": "stdout",
     "output_type": "stream",
     "text": [
      "프로그램을 종료합니다.\n"
     ]
    }
   ],
   "source": [
    "import random,time  #내가 푼 답\n",
    "word = ['cat','dog','fox','monkey','mouse','panda','frog','snake','wolf']\n",
    "rank = {'aaa':99999}\n",
    "while True:\n",
    "    choice = input('''\n",
    "------------------------------------------------------\n",
    "1. 문제추가  2. 타자게임  3. 등수리스트  4. 프로그램종료  \n",
    "------------------------------------------------------\n",
    "메뉴 번호를 선택해주세요. ''')\n",
    "    if choice == '1':\n",
    "        add = input('''\n",
    "추가할 단어를 기입해주세요.  ''')\n",
    "        word.append(add)\n",
    "        print('문제를 추가하였습니다. (추가된 단어 : %s)' %(add))\n",
    "    elif choice == '2':\n",
    "        input('엔터누르면 시작')\n",
    "        start = time.time()\n",
    "\n",
    "        for i in range(1,6):\n",
    "            print('%s번 문제!'%(i))\n",
    "            while True:\n",
    "                ran = word[random.randint(0,len(word)-1)]\n",
    "                answer = input('%s'%(ran))\n",
    "                if not answer == ran:\n",
    "                    print('틀렸습니다. 새로운 문제를 출제합니다.')\n",
    "                else:\n",
    "                    print('정답!')\n",
    "                    break\n",
    "        print('문제를 모두 풀었습니다 ㅎㅎ')\n",
    "        end=time.time()\n",
    "        print(f'{end-start:.0f}초')\n",
    "    elif choice == '3':\n",
    "        pass\n",
    "    elif choice == '4':\n",
    "        print('프로그램을 종료합니다.')\n",
    "        break\n",
    "    else:\n",
    "        print('메뉴선택을 정확히 해주세요.')"
   ]
  },
  {
   "cell_type": "code",
   "execution_count": null,
   "id": "ec50094e-3751-4580-8d61-011a746e64ff",
   "metadata": {},
   "outputs": [],
   "source": [
    "import random,time,json\n",
    "word = ['cat','dog','fox','monkey','mouse','panda','frog','snake','wolf']\n",
    "rank = {'aaa':10000}\n",
    "with open('word.json','r'):\n",
    "    word = json.load(f)\n",
    "with open('rank.json','r'):\n",
    "\n",
    "while True:\n",
    "    menu = input('''\n",
    "------------------------------------------------------\n",
    "1. 문제추가  2. 타자게임  3. 등수리스트  4. 프로그램종료  \n",
    "------------------------------------------------------\n",
    "메뉴 번호를 선택해주세요. ''')\n",
    "    if menu == '1':\n",
    "        pass\n",
    "    elif menu == '2':\n",
    "        input('엔터누르면 시작')\n",
    "        start = time.time()\n",
    "\n",
    "        for i in range(1,6):\n",
    "            print('%s번 문제!'%(i))\n",
    "            while True:\n",
    "                ran = word[random.randint(0,len(word)-1)]\n",
    "                answer = input('%s'%(ran))\n",
    "                if not answer == ran:\n",
    "                    print('틀렸습니다. 새로운 문제를 출제합니다.')\n",
    "                else:\n",
    "                    print('정답!')\n",
    "                    break\n",
    "        print('문제를 모두 풀었습니다 ㅎㅎ')\n",
    "        end=time.time()\n",
    "        print(f'{end-start:.0f}초')\n",
    "        name = input('사용자명을 입력하세요.)\n",
    "        while name in rank:\n",
    "            name = input('사용자명이 중복되었습니다. 다른 이름을 입력하세요.')\n",
    "        rank[name] = end-start\n",
    "        print(rank)\n",
    "    elif menu == '3':\n",
    "        pass\n",
    "    elif menu == '4':\n",
    "        print('프로그램을 종료합니다.)\n",
    "        with open('rank.json','w') as f:\n",
    "            json.dump(rank,f)\n",
    "        break\n",
    "    else:\n",
    "        print('메뉴선택을 잘못하셨습니다.')"
   ]
  }
 ],
 "metadata": {
  "kernelspec": {
   "display_name": "Python 3 (ipykernel)",
   "language": "python",
   "name": "python3"
  },
  "language_info": {
   "codemirror_mode": {
    "name": "ipython",
    "version": 3
   },
   "file_extension": ".py",
   "mimetype": "text/x-python",
   "name": "python",
   "nbconvert_exporter": "python",
   "pygments_lexer": "ipython3",
   "version": "3.9.7"
  }
 },
 "nbformat": 4,
 "nbformat_minor": 5
}
