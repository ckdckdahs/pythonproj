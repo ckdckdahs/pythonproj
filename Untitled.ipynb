{
 "cells": [
  {
   "cell_type": "raw",
   "id": "003b657c-645d-4e4a-8fbb-cc332baa8cde",
   "metadata": {},
   "source": [
    " 콘솔형 고객 정보 관리 시스템 구축\n",
    "\n",
    " 1. 기능  \n",
    " 고객 정보 입력(I), 현재/이전/다음 고객 정보 조회(C/P/N), 고객 정보 수정(U), 고객 정보 삭제(D), 고객 정보 종료(Q)\n",
    "\n",
    " - 괄호 안 영문자를 입력하면 각 기능이 구현되게 만든다\n",
    " - 종료(Q)를 입력하기 전까지 기능 선택 메시지가 계속 뜨도록 만든다\n",
    " - 각 기능은 함수로 관리한다\n",
    " - 입력된 각 정보는 인덱스 값에 따라 페이지를 가진다\n",
    "   -> 첫 정보 입력 시 인덱스는 0이므로, 입력 전 기본 page 값은 -1로 설정한다\n",
    "\n",
    " 2. 입력(I)\n",
    " - dictionary로 각 키의 값을 받고 빈 리스트에 채워나간다\n",
    " - 성별(gender) : M, m, F, f로만 입력 가능\n",
    "   -> 소문자로 입력하는 경우 대문자로 자동 변환\n",
    "   -> gender 값이 M 또는 F가 아닐 경우 다시 입력 - 이메일(email) : 입력값 내 '@'가 반드시 있어야 함\n",
    "   -> 정규표현식 사용\n",
    "   -> re를 import 하여 이메일 입력값 내 '@' 존재 여부 파악\n",
    "   -> 없는 경우 '@'를 포함하라는 문구와 함께 재입력 하도록 함\n",
    " - 출생년도(birthyear) : 4자리로 입력 해야\n",
    "   -> len 값으로 입력 값의 길이를 구함\n",
    "   -> 4자리가 아닐 경우 재입력 하도록 함\n",
    " - 출생년도까지 입력이 완료되었을 경우\n",
    "   -> 키 값 입력이 완료된 customer 딕셔너리를 custlist 리스트에 추가(append)한다\n",
    "   -> 고객 정보가 새로 입력 되었으므로 page 값에 1을 더한다\n",
    "\n",
    " 3. 조회(C, P, N)\n",
    " - 인덱스는 0부터 시작하나 페이지는 통상 1부터 시작하므로 페이지 출력시 page+1 값을 반환한다\n",
    " - 이전 페이지 조회(P)의 경우, 첫 번 째 페이지인 상태에서 이전 페이지로 이동이 불가하므로 현재 페이지인 첫 번 째 페이지를 반환\n",
    " - 다음 페이지 조회(N)의 경우, 마지막 페이지인 상태에서 다음 페이지로 이동이 불가하므로 현재 페이지인 마지막 페이지를 반환\n",
    "\n",
    " 4. 삭제(D)\n",
    " - unique한 키를 기준으로 삭제정보를 선택한다 -> 여기서는 이메일로 가정\n",
    " - 삭제 성공 여부 변수(delok)\n",
    "   -> 입력한 이메일이 등록된 정보 내에 있을 경우 삭제\n",
    "   -> 삭제가 성공하면 delok=1 (default 값 0)\n",
    "   -> 등록된 정보 내에 없는 이메일일 경우(delok=0) 등록되지 않았다고 출력\n",
    "\n",
    " 5. 수정(U)\n",
    " - unique한 키를 기준으로 수정 정보를 선택한다 -> 여기서는 이메일로 가정\n",
    " - 입력한 이메일과 일치하는 고객 정보의 인덱스를 idx에 입력\n",
    "   -> idx의 default 값은 -1\n",
    "   -> 일치 여부 확인 후에도 idx가 -1일 경우 등록되지 않았다고 출력\n",
    " - 이메일 외에 이름, 성별, 출생년도 중 수정할 정보 선택\n",
    " - 수정할 정보 선택 후 수정할 내용 입력\n",
    " - 수정하고 픈 변수가 없는 경우 exit 입력 시 수정 창 종료\n",
    "\n",
    " 6. 종료(Q)\n",
    " - 맨 처음 while 반복문을 나간다 -> break\n"
   ]
  },
  {
   "cell_type": "code",
   "execution_count": null,
   "id": "e41755a1-d455-4c34-bca5-4f77059c4ef9",
   "metadata": {},
   "outputs": [
    {
     "name": "stdin",
     "output_type": "stream",
     "text": [
      "\n",
      "다음 중에서 하실 일을 골라주세요 :\n",
      "I - 입력   C - 현재   P - 이전   N - 다음   U - 수정   D - 삭제   Q - 종료\n",
      "     ㅇ\n",
      "\n",
      "다음 중에서 하실 일을 골라주세요 :\n",
      "I - 입력   C - 현재   P - 이전   N - 다음   U - 수정   D - 삭제   Q - 종료\n",
      "     d\n"
     ]
    },
    {
     "name": "stdout",
     "output_type": "stream",
     "text": [
      "[{'name': '홍길동', 'gender': 'M', 'email': 'hong123@gmail.com', 'birthyear': '2000'}, {'name': '박철수', 'gender': 'M', 'email': 'park01@gmail.com', 'birthyear': '2002'}, {'name': '김나리', 'gender': 'F', 'email': 'kim123@gmail.com', 'birthyear': '1999'}]\n"
     ]
    },
    {
     "name": "stdin",
     "output_type": "stream",
     "text": [
      "삭제하려는 이메일 주소를 입력하세요. hong123@gmail.com\n"
     ]
    },
    {
     "name": "stdout",
     "output_type": "stream",
     "text": [
      "홍길동님의 정보가 삭제되었습니다.\n",
      "[{'name': '박철수', 'gender': 'M', 'email': 'park01@gmail.com', 'birthyear': '2002'}, {'name': '김나리', 'gender': 'F', 'email': 'kim123@gmail.com', 'birthyear': '1999'}]\n"
     ]
    },
    {
     "name": "stdin",
     "output_type": "stream",
     "text": [
      "\n",
      "다음 중에서 하실 일을 골라주세요 :\n",
      "I - 입력   C - 현재   P - 이전   N - 다음   U - 수정   D - 삭제   Q - 종료\n",
      "     c\n"
     ]
    },
    {
     "name": "stdout",
     "output_type": "stream",
     "text": [
      "현재 페이지는 2페이지 입니다.\n",
      "{'name': '김나리', 'gender': 'F', 'email': 'kim123@gmail.com', 'birthyear': '1999'}\n"
     ]
    },
    {
     "name": "stdin",
     "output_type": "stream",
     "text": [
      "\n",
      "다음 중에서 하실 일을 골라주세요 :\n",
      "I - 입력   C - 현재   P - 이전   N - 다음   U - 수정   D - 삭제   Q - 종료\n",
      "     d\n"
     ]
    },
    {
     "name": "stdout",
     "output_type": "stream",
     "text": [
      "[{'name': '박철수', 'gender': 'M', 'email': 'park01@gmail.com', 'birthyear': '2002'}, {'name': '김나리', 'gender': 'F', 'email': 'kim123@gmail.com', 'birthyear': '1999'}]\n"
     ]
    },
    {
     "name": "stdin",
     "output_type": "stream",
     "text": [
      "삭제하려는 이메일 주소를 입력하세요. kim123@gmail.com\n"
     ]
    },
    {
     "name": "stdout",
     "output_type": "stream",
     "text": [
      "등록되지 않은 고객 정보입니다.\n",
      "[{'name': '박철수', 'gender': 'M', 'email': 'park01@gmail.com', 'birthyear': '2002'}, {'name': '김나리', 'gender': 'F', 'email': 'kim123@gmail.com', 'birthyear': '1999'}]\n",
      "김나리님의 정보가 삭제되었습니다.\n",
      "[{'name': '박철수', 'gender': 'M', 'email': 'park01@gmail.com', 'birthyear': '2002'}]\n"
     ]
    },
    {
     "name": "stdin",
     "output_type": "stream",
     "text": [
      "\n",
      "다음 중에서 하실 일을 골라주세요 :\n",
      "I - 입력   C - 현재   P - 이전   N - 다음   U - 수정   D - 삭제   Q - 종료\n",
      "     c\n"
     ]
    },
    {
     "name": "stdout",
     "output_type": "stream",
     "text": [
      "현재 페이지는 1페이지 입니다.\n",
      "{'name': '박철수', 'gender': 'M', 'email': 'park01@gmail.com', 'birthyear': '2002'}\n"
     ]
    }
   ],
   "source": [
    "# 콘솔형 고객 정보 관리 시스템 구축\n",
    "\n",
    "# 1. 기능  \n",
    "# 고객 정보 입력(I), 현재/이전/다음 고객 정보 조회(C/P/N), 고객 정보 수정(U), 고객 정보 삭제(D), 고객 정보 종료(Q)\n",
    "\n",
    "# - 괄호 안 영문자를 입력하면 각 기능이 구현되게 만든다\n",
    "# - 종료(Q)를 입력하기 전까지 기능 선택 메시지가 계속 뜨도록 만든다\n",
    "# - 각 기능은 함수로 관리한다\n",
    "# - 입력된 각 정보는 인덱스 값에 따라 페이지를 가진다\n",
    "#   -> 첫 정보 입력 시 인덱스는 0이므로, 입력 전 기본 page 값은 -1로 설정한다\n",
    "\n",
    "# 2. 입력(I)\n",
    "# - dictionary로 각 키의 값을 받고 빈 리스트에 채워나간다\n",
    "# - 성별(gender) : M, m, F, f로만 입력 가능\n",
    "#   -> 소문자로 입력하는 경우 대문자로 자동 변환\n",
    "#   -> gender 값이 M 또는 F가 아닐 경우 다시 입력\n",
    "# - 이메일(email) : 입력값 내 '@'가 반드시 있어야 함\n",
    "#   -> 정규표현식 사용\n",
    "#   -> re를 import 하여 이메일 입력값 내 '@' 존재 여부 파악\n",
    "#   -> 없는 경우 '@'를 포함하라는 문구와 함께 재입력 하도록 함\n",
    "#   -> 중복된 이메일 입력 방지\n",
    "# - 출생년도(birthyear) : 4자리로 입력 해야\n",
    "#   -> len 값으로 입력 값의 길이를 구함\n",
    "#   -> 4자리가 아닐 경우 재입력 하도록 함\n",
    "# - 출생년도까지 입력이 완료되었을 경우\n",
    "#   -> 키 값 입력이 완료된 customer 딕셔너리를 custlist 리스트에 추가(append)한다\n",
    "#   -> 고객 정보가 새로 입력 되었으므로 page 값에 1을 더한다\n",
    "\n",
    "# 3. 조회(C, P, N)\n",
    "# - 인덱스는 0부터 시작하나 페이지는 통상 1부터 시작하므로 페이지 출력시 page+1 값을 반환한다\n",
    "# - 이전 페이지 조회(P)의 경우, 첫 번 째 페이지인 상태에서 이전 페이지로 이동이 불가하므로 현재 페이지인 첫 번 째 페이지를 반환\n",
    "# - 다음 페이지 조회(N)의 경우, 마지막 페이지인 상태에서 다음 페이지로 이동이 불가하므로 현재 페이지인 마지막 페이지를 반환\n",
    "\n",
    "# 4. 삭제(D)\n",
    "# - unique한 키를 기준으로 삭제정보를 선택한다 -> 여기서는 이메일로 가정\n",
    "# - 삭제 성공 여부 변수(delok)\n",
    "#   -> 입력한 이메일이 등록된 정보 내에 있을 경우 삭제\n",
    "#   -> 삭제가 성공하면 delok=1 (default 값 0)\n",
    "#   -> 등록된 정보 내에 없는 이메일일 경우(delok=0) 등록되지 않았다고 출력\n",
    "\n",
    "# 5. 수정(U)\n",
    "# - unique한 키를 기준으로 수정 정보를 선택한다 -> 여기서는 이메일로 가정\n",
    "# - 입력한 이메일과 일치하는 고객 정보의 인덱스를 idx에 입력\n",
    "#   -> idx의 default 값은 -1\n",
    "#   -> 일치 여부 확인 후에도 idx가 -1일 경우 등록되지 않았다고 출력\n",
    "# - 이메일 외에 이름, 성별, 출생년도 중 수정할 정보 선택\n",
    "# - 수정할 정보 선택 후 수정할 내용 입력\n",
    "# - 수정하고 픈 변수가 없는 경우 exit 입력 시 수정 창 종료\n",
    "\n",
    "# 6. 종료(Q)\n",
    "# - 맨 처음 while 반복문을 나간다 -> break\n",
    "\n",
    "\n",
    "import re\n",
    "\n",
    "custlist=[{'name': '홍길동', 'gender': 'M', 'email': 'hong123@gmail.com', 'birthyear': '2000'},\n",
    "          {'name': '박철수', 'gender': 'M', 'email': 'park01@gmail.com', 'birthyear': '2002'},\n",
    "          {'name': '김나리', 'gender': 'F', 'email': 'kim123@gmail.com', 'birthyear': '1999'} ]\n",
    "page = 2 \n",
    "\n",
    "while True:\n",
    "    choice=input('''\n",
    "다음 중에서 하실 일을 골라주세요 :\n",
    "I - 입력   C - 현재   P - 이전   N - 다음   U - 수정   D - 삭제   Q - 종료\n",
    "    ''').upper()  \n",
    "\n",
    "    if choice==\"I\":  \n",
    "        customer={'name': '', 'gender': '', 'email': '', 'birthyear': ''}\n",
    "        customer['name']=input('이름>>>')\n",
    "        while True:\n",
    "            customer['gender']=input('성별(M,F) >>>').upper()\n",
    "            if customer['gender'] in ('M','F'):\n",
    "                break\n",
    "        \n",
    "        while True:\n",
    "            while True:\n",
    "                customer['email']=input('email >>>')\n",
    "                if customer['email'].find('@') != -1:\n",
    "                    break\n",
    "                else:\n",
    "                    print('이메일을 정확하게 입력하세요.')\n",
    "            check = 0\n",
    "            for i in custlist:\n",
    "                if i['email'] == customer['email']:\n",
    "                    check = 1\n",
    "                    break\n",
    "            if check == 0:\n",
    "                break\n",
    "            print('중복되는 이메일이 있습니다.')\n",
    "            \n",
    "        while True:\n",
    "            customer['birthyear'] = input('생년월일(4자리) >>> ')\n",
    "            if len(customer['birthyear']) == 4 and customer['birthyear'].isdecimal():\n",
    "                break\n",
    "            \n",
    "        custlist.append(customer)\n",
    "        page = len(custlist)-1\n",
    "        print(custlist)\n",
    "        \n",
    "        \n",
    "        \n",
    "    elif choice==\"C\": \n",
    "        if page < 0:\n",
    "            print('입력된 정보가 없습니다.')\n",
    "        elif (page+1) > len(custlist):\n",
    "            page = (len(custlist)-1)\n",
    "            print(f'현재 페이지는 {len(custlist)}페이지 입니다.')\n",
    "            print(custlist[page])\n",
    "        else:\n",
    "            print(f'현재 페이지는 {page+1}페이지 입니다.')\n",
    "            print(custlist[page])\n",
    "        \n",
    "\n",
    "    elif choice == 'P':\n",
    "        if page <= 0:\n",
    "            print('첫번째 페이지입니다.')\n",
    "            print(f'현재 페이지는 {page+1}페이지입니다.')\n",
    "        else:\n",
    "            page -= 1\n",
    "            print(custlist[page])\n",
    "        print(f'현재 페이지는 {page+1}페이지 입니다.')\n",
    "\n",
    "    elif choice == 'N':\n",
    "        if page >= len(custlist)-1:\n",
    "            print('마지막 페이지입니다.')\n",
    "            print(custlist[page])            \n",
    "        else:\n",
    "            page+=1\n",
    "            print(custlist[page])\n",
    "        print(f'현재 페이지는 {page+1}페이지 입니다.')\n",
    " \n",
    "    elif choice=='D':\n",
    "        print(custlist)\n",
    "        choice1 = input('삭제하고싶은 정보의 이름을 입력하세요.')\n",
    "        delok = 0\n",
    "        for i in range(len(custlist)):\n",
    "            if custlist[i]['name'] == choice1:\n",
    "                print(f'{custlist[i][\"name\"]}님의 정보가 삭제되었습니다.')\n",
    "                del custlist[i]\n",
    "                delok = 1\n",
    "                print(custlist)\n",
    "                break\n",
    "            if delok == 0:\n",
    "                print('등록되지 않은 고객 정보입니다.')\n",
    "            print(custlist)\n",
    "\n",
    "    elif choice==\"U\": \n",
    "        while True:\n",
    "            choice1 = input('수정하려는 정보의 이름을 입력하세요. >>> ')\n",
    "            idx = -1\n",
    "            for i in range(len(custlist)):\n",
    "                if custlist[i]['name']==choice1:\n",
    "                    idx = i\n",
    "                    break\n",
    "            if idx == -1:\n",
    "                print('등록되지 않은 정보입니다.')\n",
    "                break\n",
    "\n",
    "            choice2 = input('''\n",
    "----------------------------------------------\n",
    " 다음 중 수정할 항목을 선택하세요 (종료 : exit)\n",
    "  - name, gender, birthyear 중 입력\n",
    "----------------------------------------------\n",
    "항목  >>> ''')\n",
    "            if choice2 in ('name', 'gender', 'birthyear'):\n",
    "                custlist[idx][choice2] = input(f'수정할 {choice2}를 입력하세요. >>> ')\n",
    "                print(custlist[idx])\n",
    "                break\n",
    "            elif choice2 == 'exit': \n",
    "                break\n",
    "            else:\n",
    "                print('존재하지 않는 정보입니다.')\n",
    "                break\n",
    "            \n",
    "    elif choice==\"Q\":\n",
    "        print('프로그램을 종료합니다.')\n",
    "        break"
   ]
  },
  {
   "cell_type": "raw",
   "id": "f34a08dd-e302-4468-bcb0-21bdcd475d8e",
   "metadata": {},
   "source": [
    "과일가게 재고 프로그램\n",
    "- 입력\n",
    "- 판매\n",
    "- 재고리스트\n",
    "- 삭제\n",
    "- 종료"
   ]
  },
  {
   "cell_type": "code",
   "execution_count": 19,
   "id": "878755eb-a016-42a5-a5e1-97beb023971d",
   "metadata": {},
   "outputs": [
    {
     "ename": "IndentationError",
     "evalue": "expected an indented block (Temp/ipykernel_4392/126771537.py, line 33)",
     "output_type": "error",
     "traceback": [
      "\u001b[1;36m  File \u001b[1;32m\"C:\\Users\\Admin\\AppData\\Local\\Temp/ipykernel_4392/126771537.py\"\u001b[1;36m, line \u001b[1;32m33\u001b[0m\n\u001b[1;33m    buy['price'] = n\u001b[0m\n\u001b[1;37m    ^\u001b[0m\n\u001b[1;31mIndentationError\u001b[0m\u001b[1;31m:\u001b[0m expected an indented block\n"
     ]
    }
   ],
   "source": []
  },
  {
   "cell_type": "code",
   "execution_count": null,
   "id": "de85a54f-4c89-4769-8486-52cd678e6c02",
   "metadata": {},
   "outputs": [],
   "source": []
  },
  {
   "cell_type": "code",
   "execution_count": null,
   "id": "6690e555-47df-4375-8704-9b24830d38ff",
   "metadata": {},
   "outputs": [],
   "source": []
  }
 ],
 "metadata": {
  "kernelspec": {
   "display_name": "Python 3 (ipykernel)",
   "language": "python",
   "name": "python3"
  },
  "language_info": {
   "codemirror_mode": {
    "name": "ipython",
    "version": 3
   },
   "file_extension": ".py",
   "mimetype": "text/x-python",
   "name": "python",
   "nbconvert_exporter": "python",
   "pygments_lexer": "ipython3",
   "version": "3.9.7"
  }
 },
 "nbformat": 4,
 "nbformat_minor": 5
}
