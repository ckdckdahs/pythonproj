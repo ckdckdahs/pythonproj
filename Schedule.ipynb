{
 "cells": [
  {
   "cell_type": "code",
   "execution_count": 12,
   "id": "cb859432-eea9-4fe7-9401-3d4c9fd53b7c",
   "metadata": {},
   "outputs": [],
   "source": [
    "dic = {'mon':0,'tue':1,'wed':2,'thu':3,'fri':4,'sat':5,'sun':6}  #요일별 번호 매기기\n",
    "weeks = ['mon', 'tue', 'wed', 'thu', 'fri' , 'sat', 'sun']  #요일명이 저장된 리스트\n",
    "\n",
    "schedule = [[], [], [], [], [], [], []]  #요일별 리스트가 저장될 리스트"
   ]
  },
  {
   "cell_type": "code",
   "execution_count": 3,
   "id": "409e0460-1fab-4748-a447-df8d0da4824c",
   "metadata": {},
   "outputs": [
    {
     "name": "stdin",
     "output_type": "stream",
     "text": [
      "\n",
      "-------------------------------------------------\n",
      "1.일정입력 2.일정확인 3.일정삭제. 4.프로그램종료\n",
      "-------------------------------------------------\n",
      "메뉴선택 >>>  1\n",
      "요일을 선택하세요.  (종료 : q or Q)\n",
      "ex) mon, tue, wed, thu, fri , sat, sun\n",
      ">>> mon\n",
      "추가할 일정을 입력하세요.  (종료 : q or Q) >>>  ㅇㅇㅇ\n"
     ]
    },
    {
     "name": "stdout",
     "output_type": "stream",
     "text": [
      "mon -> ['ㅇㅇㅇ'] \n",
      "\n"
     ]
    },
    {
     "name": "stdin",
     "output_type": "stream",
     "text": [
      "추가할 일정을 입력하세요.  (종료 : q or Q) >>>  ㄴㄹㄴ\n"
     ]
    },
    {
     "name": "stdout",
     "output_type": "stream",
     "text": [
      "mon -> ['ㅇㅇㅇ', 'ㄴㄹㄴ'] \n",
      "\n"
     ]
    },
    {
     "name": "stdin",
     "output_type": "stream",
     "text": [
      "추가할 일정을 입력하세요.  (종료 : q or Q) >>>  ㅇㅋ\n"
     ]
    },
    {
     "name": "stdout",
     "output_type": "stream",
     "text": [
      "mon -> ['ㅇㅇㅇ', 'ㄴㄹㄴ', 'ㅇㅋ'] \n",
      "\n"
     ]
    },
    {
     "name": "stdin",
     "output_type": "stream",
     "text": [
      "추가할 일정을 입력하세요.  (종료 : q or Q) >>>  q\n"
     ]
    },
    {
     "name": "stdout",
     "output_type": "stream",
     "text": [
      "입력 완료\n",
      "['ㅇㅇㅇ', 'ㄴㄹㄴ', 'ㅇㅋ'] \n",
      "\n"
     ]
    },
    {
     "name": "stdin",
     "output_type": "stream",
     "text": [
      "요일을 선택하세요.  (종료 : q or Q)\n",
      "ex) mon, tue, wed, thu, fri , sat, sun\n",
      ">>> q\n"
     ]
    },
    {
     "name": "stdout",
     "output_type": "stream",
     "text": [
      "일정이 등록되었습니다.\n"
     ]
    },
    {
     "name": "stdin",
     "output_type": "stream",
     "text": [
      "\n",
      "-------------------------------------------------\n",
      "1.일정입력 2.일정확인 3.일정삭제. 4.프로그램종료\n",
      "-------------------------------------------------\n",
      "메뉴선택 >>>  4\n",
      "종료하시겠습니까? : Y/N ㅛ\n",
      "\n",
      "-------------------------------------------------\n",
      "1.일정입력 2.일정확인 3.일정삭제. 4.프로그램종료\n",
      "-------------------------------------------------\n",
      "메뉴선택 >>>  4\n",
      "종료하시겠습니까? : Y/N y\n"
     ]
    },
    {
     "name": "stdout",
     "output_type": "stream",
     "text": [
      "프로그램 종료\n"
     ]
    }
   ],
   "source": [
    "dic = {'mon':0,'tue':1,'wed':2,'thu':3,'fri':4,'sat':5,'sun':6}  #요일별 번호 매기기\n",
    "weeks = ['mon', 'tue', 'wed', 'thu', 'fri' , 'sat', 'sun']  #요일명이 저장된 리스트\n",
    "\n",
    "schedule = [[], [], [], [], [], [], []]  #요일별 리스트가 저장될 리스트\n",
    "while True:\n",
    "    choice = input('''\n",
    "-------------------------------------------------\n",
    "1.일정입력 2.일정확인 3.일정삭제. 4.프로그램종료\n",
    "-------------------------------------------------\n",
    "메뉴선택 >>> ''')\n",
    "    \n",
    "    if choice == '1':\n",
    "        while True:\n",
    "            days = input('''요일을 선택하세요.  (뒤로가기 : q or Q)\n",
    "ex) mon, tue, wed, thu, fri , sat, sun\n",
    ">>>''')\n",
    "            if days.lower() == 'q' :\n",
    "                print(\"일정이 등록되었습니다.\")\n",
    "                break\n",
    "                \n",
    "            elif days == weeks[dic[days]] :\n",
    "                num = dic[days]\n",
    "\n",
    "                while True:\n",
    "                    name = input('추가할 일정을 입력하세요.  (뒤로가기 : q or Q) >>> ')\n",
    "                    schedule[num].append(name)\n",
    "\n",
    "                    if name.lower() == 'q':\n",
    "                        schedule[num].remove('q')\n",
    "                        print(\"입력 완료\")\n",
    "                        print(schedule[num], '\\n')\n",
    "                        break\n",
    "                    else :\n",
    "                        print(weeks[num], '->', schedule[num], '\\n')\n",
    "                        \n",
    "                        \n",
    "    if choice == '2':\n",
    "        for i in weeks :\n",
    "            num = dic[i]\n",
    "            print('------ ', weeks[num] , ' ------')\n",
    "            for j in schedule[num] : \n",
    "                print(j, \"\\n\")\n",
    "                        \n",
    "    if choice == '3':\n",
    "        while True :\n",
    "            days = input('''요일을 선택하세요.\n",
    "ex) mon, tue, wed, thr, fri , sat, sun\n",
    ">>>''') \n",
    "            if days.lower() == 'q' :\n",
    "                print(\"일정이 등록되었습니다.\")\n",
    "                break\n",
    "            \n",
    "            elif days == weeks[dic[days]] :\n",
    "                num = dic[days]\n",
    "                print(weeks[num], '->', schedule[num], '\\n')\n",
    "                \n",
    "                while True :\n",
    "                    x = input('삭제할 일정을 입력하세요 >>> ')\n",
    "\n",
    "                    if x.lower() == 'q' :\n",
    "                        print(\"삭제 완료\")\n",
    "                        print(schedule[num], '\\n')\n",
    "                        break\n",
    "                    elif x in schedule[num] :\n",
    "                        schedule[num].remove(x)\n",
    "                        print(weeks[num], '->', schedule[num], '\\n')\n",
    "                        \n",
    "                        \n",
    "    if choice == '4':\n",
    "        close = input('종료하시겠습니까? : Y/N')\n",
    "        if close.lower() == \"y\" :\n",
    "            print('프로그램 종료')\n",
    "            break"
   ]
  },
  {
   "cell_type": "code",
   "execution_count": null,
   "id": "edc118a1-8f5e-4bed-85ec-945dff79acf1",
   "metadata": {},
   "outputs": [],
   "source": [
    "# 과일가게 재고 프로그램\n",
    "# -제품입력 -제품판매 -재고리스트 -오래된 제품 삭제(DB관리) \n",
    "# -제품 수정 -종료\n",
    "\n",
    "fruit = [{'name':'사과', 'price': 3000, 'stock':10},\n",
    "         {'name':'딸기', 'price': 5000, 'stock':10},\n",
    "         {'name':'두리안', 'price': 20000, 'stock':10},        \n",
    "         {'name':'아보카도', 'price': 12000, 'stock':10},\n",
    "         {'name':'스타후르츠', 'price': 30000, 'stock':10},\n",
    "         {'name':'체리자두', 'price': 15000, 'stock':10},\n",
    "         {'name':'애플수박', 'price': 30000, 'stock':10},\n",
    "         {'name':'샤인머스켓', 'price': 20000, 'stock':10}]\n",
    "\n",
    "\n",
    "\n",
    "while True:\n",
    "    choice = input('''\n",
    "과일 판매점에 오신 것을 환영합니다 ~~~~.  할 일을 선택해주세요.(종료:q)\n",
    "A - 과일 추가   S - 판매    L - 재고 및 매출 현황    D - 삭제    U - 재고 수정   Q - 종료\n",
    "''').upper()\n",
    "\n",
    "    if choice == \"A\":\n",
    "        while True :\n",
    "            \n",
    "            buy = {'name': '', 'price': '', 'stock': ''}\n",
    "            v = input('과일명 >>>')\n",
    "\n",
    "            if v.lower() == 'q' :\n",
    "                print(\"메뉴로 돌아갑니다.\")\n",
    "                break    \n",
    "            buy['name'] = v\n",
    "\n",
    "            while True :\n",
    "                n = input('가격 >>>')\n",
    "                if n.isdecimal() :\n",
    "                    buy['price'] = n\n",
    "                    break\n",
    "                          \n",
    "            while True : \n",
    "            num = input('과일 개수 >>> ')\n",
    "            \n",
    "\n",
    "            if sell.lower() == 'q' :\n",
    "                print(\"메뉴로 돌아갑니다.\")\n",
    "                break\n",
    "\n",
    "            for i in range(len(fruit)) :\n",
    "                if fruit[i]['name'] == sell :\n",
    "                    price = fruit[i]['stock']\n",
    "                    price1 = price * num\n",
    "                    \n",
    "                    print(f'{sell} 이 {num} 개 판매되었습니다.')\n",
    "                    print(f'매출이 {price} 원 적립되었습니다.')\n",
    "                    print(fruit[i])\n",
    "                    break\n",
    "            \n",
    "            if delok == 0 :\n",
    "                print('정확한 과일명을 기재해주세요.')\n",
    "        \n",
    "\n",
    "        \n",
    "        \n",
    "    elif choice == 'D' :\n",
    "        \n",
    "        while True :\n",
    "            x = input('삭제할 과일명 >>>')\n",
    "            delok = 0\n",
    "                \n",
    "            if x.lower() == 'q' :\n",
    "                print(\"메뉴로 돌아갑니다.\")\n",
    "                break\n",
    "\n",
    "            for i in range(len(fruit)) :\n",
    "                if fruit[i]['name'] == x :\n",
    "                    print(f'{fruit[i]} 이 삭제되었습니다.')\n",
    "                    del fruit[i]\n",
    "                    delok = 1\n",
    "                    break\n",
    "            if delok == 0 :\n",
    "                print('등록되지 않은 고객 정보입니다.')\n",
    "        \n",
    "        \n",
    "    elif choice == 'Q' :\n",
    "        print('프로그램을 종료합니다.')\n",
    "        break"
   ]
  },
  {
   "cell_type": "code",
   "execution_count": 25,
   "id": "02de9c7b-a53a-4fb9-b641-4e8cf34b02f2",
   "metadata": {},
   "outputs": [
    {
     "ename": "SyntaxError",
     "evalue": "f-string: unmatched '(' (Temp/ipykernel_1428/338718013.py, line 4)",
     "output_type": "error",
     "traceback": [
      "\u001b[1;36m  File \u001b[1;32m\"C:\\Users\\Admin\\AppData\\Local\\Temp/ipykernel_1428/338718013.py\"\u001b[1;36m, line \u001b[1;32m4\u001b[0m\n\u001b[1;33m    print(f'매출액은 총 {set.get('매출'):10,}원 입니다.')\u001b[0m\n\u001b[1;37m                             ^\u001b[0m\n\u001b[1;31mSyntaxError\u001b[0m\u001b[1;31m:\u001b[0m f-string: unmatched '('\n"
     ]
    }
   ],
   "source": [
    "st = 35000\n",
    "\n",
    "set = {'매출' : st}\n",
    "print(f'매출액은 총 {set.get('매출'):10,}원 입니다.')\n"
   ]
  }
 ],
 "metadata": {
  "kernelspec": {
   "display_name": "Python 3 (ipykernel)",
   "language": "python",
   "name": "python3"
  },
  "language_info": {
   "codemirror_mode": {
    "name": "ipython",
    "version": 3
   },
   "file_extension": ".py",
   "mimetype": "text/x-python",
   "name": "python",
   "nbconvert_exporter": "python",
   "pygments_lexer": "ipython3",
   "version": "3.9.7"
  }
 },
 "nbformat": 4,
 "nbformat_minor": 5
}
