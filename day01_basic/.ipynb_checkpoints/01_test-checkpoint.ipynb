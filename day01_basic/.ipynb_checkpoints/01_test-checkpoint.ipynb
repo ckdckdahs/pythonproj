{
 "cells": [
  {
   "cell_type": "code",
   "execution_count": 1,
   "id": "8df1ddfe",
   "metadata": {},
   "outputs": [
    {
     "name": "stdout",
     "output_type": "stream",
     "text": [
      "hello world!!\n"
     ]
    }
   ],
   "source": [
    "print('hello world!!')"
   ]
  },
  {
   "cell_type": "code",
   "execution_count": 3,
   "id": "9b8663f6",
   "metadata": {},
   "outputs": [
    {
     "name": "stdout",
     "output_type": "stream",
     "text": [
      "한글\n"
     ]
    }
   ],
   "source": [
    "print('한글')"
   ]
  },
  {
   "cell_type": "code",
   "execution_count": 2,
   "id": "55a61379-84be-4442-8ab3-4af643846e6a",
   "metadata": {},
   "outputs": [],
   "source": [
    "a = 5\n",
    "if a == 10:\n",
    "    print('10입니다')\n",
    "    print('10입니다')"
   ]
  },
  {
   "cell_type": "code",
   "execution_count": 3,
   "id": "499c8556-b87a-4140-9d67-6183797eaccb",
   "metadata": {},
   "outputs": [
    {
     "data": {
      "text/plain": [
       "2.0"
      ]
     },
     "execution_count": 3,
     "metadata": {},
     "output_type": "execute_result"
    }
   ],
   "source": [
    "1+1.0"
   ]
  },
  {
   "cell_type": "raw",
   "id": "5a44e5da-89d9-4589-bc18-5c632c61d29c",
   "metadata": {},
   "source": [
    "+,-,*,/,//(몫),%(나머지),**(거듭제곱)"
   ]
  },
  {
   "cell_type": "markdown",
   "id": "9f6db2a0-4ed6-44c6-b152-bb2545f68b68",
   "metadata": {},
   "source": [
    "# 제목"
   ]
  },
  {
   "cell_type": "markdown",
   "id": "3659b9b3-d58c-45fd-bb0e-1385a95666d4",
   "metadata": {},
   "source": [
    "[네이버](http://naver.com)"
   ]
  },
  {
   "cell_type": "code",
   "execution_count": 30,
   "id": "104c7699-5963-4124-b3a0-78dd105d9703",
   "metadata": {
    "tags": []
   },
   "outputs": [
    {
     "name": "stdin",
     "output_type": "stream",
     "text": [
      "숫자를 입력하세요 >>> 34\n"
     ]
    },
    {
     "data": {
      "text/plain": [
       "'34'"
      ]
     },
     "execution_count": 30,
     "metadata": {},
     "output_type": "execute_result"
    }
   ],
   "source": [
    "a = input('숫자를 입력하세요 >>>')\n",
    "a"
   ]
  },
  {
   "cell_type": "code",
   "execution_count": 18,
   "id": "c467c752-3f89-4ddb-96bd-fde3ca94e063",
   "metadata": {
    "collapsed": true,
    "jupyter": {
     "outputs_hidden": true
    },
    "tags": []
   },
   "outputs": [
    {
     "ename": "SyntaxError",
     "evalue": "invalid syntax (Temp/ipykernel_7684/4110667445.py, line 1)",
     "output_type": "error",
     "traceback": [
      "\u001b[1;36m  File \u001b[1;32m\"C:\\Users\\Admin\\AppData\\Local\\Temp/ipykernel_7684/4110667445.py\"\u001b[1;36m, line \u001b[1;32m1\u001b[0m\n\u001b[1;33m    input? #input() 범위안에 커서 두고 shift+tap\u001b[0m\n\u001b[1;37m         ^\u001b[0m\n\u001b[1;31mSyntaxError\u001b[0m\u001b[1;31m:\u001b[0m invalid syntax\n"
     ]
    }
   ],
   "source": [
    "input? #input() 범위안에 커서 두고 shift+tap"
   ]
  },
  {
   "cell_type": "code",
   "execution_count": 33,
   "id": "1d658715-e428-42db-8473-e936914c4da2",
   "metadata": {},
   "outputs": [
    {
     "data": {
      "text/plain": [
       "int"
      ]
     },
     "execution_count": 33,
     "metadata": {},
     "output_type": "execute_result"
    }
   ],
   "source": [
    "type(a)"
   ]
  },
  {
   "cell_type": "code",
   "execution_count": 31,
   "id": "c6e35379-e454-43b3-9d36-791c286a2ef8",
   "metadata": {},
   "outputs": [],
   "source": [
    "a = int(a)"
   ]
  },
  {
   "cell_type": "code",
   "execution_count": 34,
   "id": "ce9af281-fcb0-4ef2-a07a-16352e69197b",
   "metadata": {},
   "outputs": [
    {
     "data": {
      "text/plain": [
       "int"
      ]
     },
     "execution_count": 34,
     "metadata": {},
     "output_type": "execute_result"
    }
   ],
   "source": [
    "type(a)"
   ]
  },
  {
   "cell_type": "code",
   "execution_count": 38,
   "id": "84f8b0a2-bb95-4cfb-af19-6f3a2e6f46b4",
   "metadata": {},
   "outputs": [
    {
     "name": "stdin",
     "output_type": "stream",
     "text": [
      "숫자를 입력하세요 3\n"
     ]
    },
    {
     "data": {
      "text/plain": [
       "str"
      ]
     },
     "execution_count": 38,
     "metadata": {},
     "output_type": "execute_result"
    }
   ],
   "source": [
    "b = input('숫자를 입력하세요')\n",
    "type(b)"
   ]
  },
  {
   "cell_type": "code",
   "execution_count": 39,
   "id": "9fb24ea2-336b-467e-bf69-0fd89f923419",
   "metadata": {},
   "outputs": [
    {
     "data": {
      "text/plain": [
       "3"
      ]
     },
     "execution_count": 39,
     "metadata": {},
     "output_type": "execute_result"
    }
   ],
   "source": [
    "int(b)"
   ]
  },
  {
   "cell_type": "code",
   "execution_count": 40,
   "id": "9e4fd46c-a5e0-4c9c-82a8-6f1f423bf2ed",
   "metadata": {},
   "outputs": [
    {
     "data": {
      "text/plain": [
       "True"
      ]
     },
     "execution_count": 40,
     "metadata": {},
     "output_type": "execute_result"
    }
   ],
   "source": [
    "b.isdecimal()"
   ]
  },
  {
   "cell_type": "code",
   "execution_count": 56,
   "id": "70a32251-a53b-4380-b830-0a668414515c",
   "metadata": {
    "collapsed": true,
    "jupyter": {
     "outputs_hidden": true
    },
    "tags": []
   },
   "outputs": [
    {
     "name": "stdin",
     "output_type": "stream",
     "text": [
      "전체 과일 수 >>> 13\n",
      "박스당 과일 수 >>> 12\n"
     ]
    },
    {
     "ename": "TypeError",
     "evalue": "unsupported operand type(s) for //: 'str' and 'str'",
     "output_type": "error",
     "traceback": [
      "\u001b[1;31m---------------------------------------------------------------------------\u001b[0m",
      "\u001b[1;31mTypeError\u001b[0m                                 Traceback (most recent call last)",
      "\u001b[1;32m~\\AppData\\Local\\Temp/ipykernel_7684/2433890307.py\u001b[0m in \u001b[0;36m<module>\u001b[1;34m\u001b[0m\n\u001b[0;32m      3\u001b[0m \u001b[1;33m\u001b[0m\u001b[0m\n\u001b[0;32m      4\u001b[0m \u001b[1;32mif\u001b[0m \u001b[0mc\u001b[0m\u001b[1;33m.\u001b[0m\u001b[0misdecimal\u001b[0m\u001b[1;33m(\u001b[0m\u001b[1;33m)\u001b[0m\u001b[1;33m:\u001b[0m\u001b[1;33m\u001b[0m\u001b[1;33m\u001b[0m\u001b[0m\n\u001b[1;32m----> 5\u001b[1;33m     \u001b[0mprint\u001b[0m\u001b[1;33m(\u001b[0m\u001b[0mc\u001b[0m\u001b[1;33m//\u001b[0m\u001b[0md\u001b[0m\u001b[1;33m)\u001b[0m\u001b[1;33m\u001b[0m\u001b[1;33m\u001b[0m\u001b[0m\n\u001b[0m\u001b[0;32m      6\u001b[0m     \u001b[0mprint\u001b[0m\u001b[1;33m(\u001b[0m\u001b[1;34m'박스'\u001b[0m\u001b[1;33m)\u001b[0m\u001b[1;33m\u001b[0m\u001b[1;33m\u001b[0m\u001b[0m\n\u001b[0;32m      7\u001b[0m     \u001b[0mprint\u001b[0m\u001b[1;33m(\u001b[0m\u001b[0mc\u001b[0m\u001b[1;33m%\u001b[0m\u001b[0md\u001b[0m\u001b[1;33m)\u001b[0m\u001b[1;33m\u001b[0m\u001b[1;33m\u001b[0m\u001b[0m\n",
      "\u001b[1;31mTypeError\u001b[0m: unsupported operand type(s) for //: 'str' and 'str'"
     ]
    }
   ],
   "source": [
    "c = input('전체 과일 수 >>>') #전체 과일 수\n",
    "d = input('박스당 과일 수 >>>') #박스당 과일 수\n",
    "\n",
    "if c.isdecimal():\\\n",
    "    print(c//d)\n",
    "    print('박스')\n",
    "    print(c%d)\n",
    "    print('개')\n",
    "else: \n",
    "    print('숫자를 기입해주세요')"
   ]
  },
  {
   "cell_type": "code",
   "execution_count": 59,
   "id": "5f699876-e161-44b2-bdcb-b11c9bfda5df",
   "metadata": {},
   "outputs": [
    {
     "name": "stdin",
     "output_type": "stream",
     "text": [
      "박스당 과일의 갯수 >>> 12\n",
      "전체 과일 수 >>> 21\n"
     ]
    },
    {
     "name": "stdout",
     "output_type": "stream",
     "text": [
      "1 박스  9 개\n"
     ]
    }
   ],
   "source": [
    "a1 = input('박스당 과일의 갯수 >>>')\n",
    "a2 = input('전체 과일 수 >>>')\n",
    "if a1.isdecimal() and a2.isdecimal():\n",
    "    a1,a2 = int(a1),int(a2)\n",
    "    box = a2//a1\n",
    "    count = a2%a1\n",
    "    print(box,'박스 ',count,'개')\n",
    "else:\n",
    "    print('숫자를 기입해주세요')"
   ]
  },
  {
   "cell_type": "raw",
   "id": "07ca3b0c-9abe-4579-9d89-c082271c7dfc",
   "metadata": {},
   "source": [
    "박스당 과일을 넣어서 몇박스 몇개인지를 출력해주는 프로그램 작성\n",
    "- 조건체크 : 입력값이 숫자인지 여부 체크해서 진행\n",
    "- 입력 받을 값 : 박스당 과일 수, 전체 과일 수\n",
    "- 출력 내용 : X박스 X개"
   ]
  },
  {
   "cell_type": "code",
   "execution_count": 62,
   "id": "58b980f9-91dc-4619-a32a-f2791d5550b1",
   "metadata": {},
   "outputs": [],
   "source": [
    "a = divmod(5,2)"
   ]
  },
  {
   "cell_type": "code",
   "execution_count": 63,
   "id": "1ab863d6-1f29-4422-b00a-eede50d589a1",
   "metadata": {},
   "outputs": [
    {
     "data": {
      "text/plain": [
       "(2, 1)"
      ]
     },
     "execution_count": 63,
     "metadata": {},
     "output_type": "execute_result"
    }
   ],
   "source": [
    "a"
   ]
  },
  {
   "cell_type": "code",
   "execution_count": 64,
   "id": "d47b6c13-9910-4b23-a4cb-8b1aa652a9b8",
   "metadata": {},
   "outputs": [
    {
     "data": {
      "text/plain": [
       "2"
      ]
     },
     "execution_count": 64,
     "metadata": {},
     "output_type": "execute_result"
    }
   ],
   "source": [
    "a[0]"
   ]
  },
  {
   "cell_type": "code",
   "execution_count": 65,
   "id": "b612024b-8172-4b86-ba12-579d4aa3c0f2",
   "metadata": {},
   "outputs": [
    {
     "data": {
      "text/plain": [
       "5"
      ]
     },
     "execution_count": 65,
     "metadata": {},
     "output_type": "execute_result"
    }
   ],
   "source": [
    "0b00101"
   ]
  },
  {
   "cell_type": "code",
   "execution_count": 67,
   "id": "9409d787-4c8a-4cb8-8d37-f137c6b117bf",
   "metadata": {},
   "outputs": [
    {
     "data": {
      "text/plain": [
       "342391"
      ]
     },
     "execution_count": 67,
     "metadata": {},
     "output_type": "execute_result"
    }
   ],
   "source": [
    "0o1234567"
   ]
  },
  {
   "cell_type": "code",
   "execution_count": 68,
   "id": "41dc6408-b5ec-4b18-9e32-75425b07b2c3",
   "metadata": {},
   "outputs": [
    {
     "data": {
      "text/plain": [
       "175"
      ]
     },
     "execution_count": 68,
     "metadata": {},
     "output_type": "execute_result"
    }
   ],
   "source": [
    "0xAF"
   ]
  },
  {
   "cell_type": "code",
   "execution_count": 69,
   "id": "b95a01ac-000f-4ca1-b6eb-fe2406f6058c",
   "metadata": {},
   "outputs": [
    {
     "data": {
      "text/plain": [
       "(2, 1)"
      ]
     },
     "execution_count": 69,
     "metadata": {},
     "output_type": "execute_result"
    }
   ],
   "source": [
    "a"
   ]
  },
  {
   "cell_type": "code",
   "execution_count": 70,
   "id": "65a8b386-cd38-4576-9c40-d928e4e97980",
   "metadata": {},
   "outputs": [],
   "source": [
    "del a"
   ]
  },
  {
   "cell_type": "code",
   "execution_count": 73,
   "id": "05abbf1d-937a-439d-984c-60946c294cbc",
   "metadata": {},
   "outputs": [],
   "source": [
    "a= [1, 2, 3, 4, 5]"
   ]
  },
  {
   "cell_type": "code",
   "execution_count": 74,
   "id": "45c67ecf-a668-4004-921d-63c5e2ccd051",
   "metadata": {},
   "outputs": [
    {
     "data": {
      "text/plain": [
       "[1, 2, 3, 4, 5]"
      ]
     },
     "execution_count": 74,
     "metadata": {},
     "output_type": "execute_result"
    }
   ],
   "source": [
    "a"
   ]
  },
  {
   "cell_type": "code",
   "execution_count": 75,
   "id": "a0c7d26e-c578-4ed0-a4ac-2ff1c41e4f57",
   "metadata": {},
   "outputs": [],
   "source": [
    "del a[1]"
   ]
  },
  {
   "cell_type": "code",
   "execution_count": 76,
   "id": "17e79dc0-a48f-4d0e-8baa-f1cbd4bab726",
   "metadata": {},
   "outputs": [
    {
     "data": {
      "text/plain": [
       "[1, 3, 4, 5]"
      ]
     },
     "execution_count": 76,
     "metadata": {},
     "output_type": "execute_result"
    }
   ],
   "source": [
    "a"
   ]
  },
  {
   "cell_type": "code",
   "execution_count": 77,
   "id": "f75465c4-3ad1-40c2-98b7-7e349a7bc2e4",
   "metadata": {},
   "outputs": [],
   "source": [
    "del a"
   ]
  },
  {
   "cell_type": "code",
   "execution_count": 78,
   "id": "3d9b9683-b4ab-4907-9e94-4741354a4b24",
   "metadata": {},
   "outputs": [],
   "source": [
    "a = 10"
   ]
  },
  {
   "cell_type": "code",
   "execution_count": 79,
   "id": "6048f3d0-8bca-41cd-a324-1c361bbb7f47",
   "metadata": {},
   "outputs": [],
   "source": [
    "a+=20"
   ]
  },
  {
   "cell_type": "code",
   "execution_count": 80,
   "id": "ab1084ac-b078-4b8a-abec-eea0d810096e",
   "metadata": {},
   "outputs": [
    {
     "data": {
      "text/plain": [
       "30"
      ]
     },
     "execution_count": 80,
     "metadata": {},
     "output_type": "execute_result"
    }
   ],
   "source": [
    "a"
   ]
  },
  {
   "cell_type": "code",
   "execution_count": 81,
   "id": "cfa3befa-c9cb-49b1-a66e-14828509495a",
   "metadata": {},
   "outputs": [],
   "source": [
    "del a"
   ]
  },
  {
   "cell_type": "code",
   "execution_count": 82,
   "id": "c695e382-e08c-4b79-863b-d3ed0bf47a17",
   "metadata": {},
   "outputs": [
    {
     "data": {
      "text/plain": [
       "['안녕', '하세요']"
      ]
     },
     "execution_count": 82,
     "metadata": {},
     "output_type": "execute_result"
    }
   ],
   "source": [
    "'안녕 하세요'.split()"
   ]
  },
  {
   "cell_type": "code",
   "execution_count": 85,
   "id": "27e52adb-f65f-4df7-9b1a-e444a620de9c",
   "metadata": {},
   "outputs": [
    {
     "data": {
      "text/plain": [
       "['안녕', '하세요']"
      ]
     },
     "execution_count": 85,
     "metadata": {},
     "output_type": "execute_result"
    }
   ],
   "source": [
    "a = '안녕 하세요'\n",
    "a.split()"
   ]
  },
  {
   "cell_type": "code",
   "execution_count": 87,
   "id": "046247ce-a38c-4fa1-9b33-92aafc2a3144",
   "metadata": {},
   "outputs": [
    {
     "name": "stdin",
     "output_type": "stream",
     "text": [
      " 안녕 하세요 오늘 정말 날씨가 좋아요\n"
     ]
    },
    {
     "data": {
      "text/plain": [
       "['안녕', '하세요', '오늘', '정말', '날씨가', '좋아요']"
      ]
     },
     "execution_count": 87,
     "metadata": {},
     "output_type": "execute_result"
    }
   ],
   "source": [
    "input().split()"
   ]
  },
  {
   "cell_type": "code",
   "execution_count": 90,
   "id": "25d87fba-ab4d-44c0-9603-777def46539e",
   "metadata": {},
   "outputs": [
    {
     "name": "stdout",
     "output_type": "stream",
     "text": [
      "a,b,cddd\n"
     ]
    }
   ],
   "source": [
    "print('a','b','c',sep=',',end='')\n",
    "print('ddd')"
   ]
  },
  {
   "cell_type": "code",
   "execution_count": 93,
   "id": "c12e49e2-8ca0-4d10-9cd2-70a840911314",
   "metadata": {},
   "outputs": [
    {
     "data": {
      "text/plain": [
       "True"
      ]
     },
     "execution_count": 93,
     "metadata": {},
     "output_type": "execute_result"
    }
   ],
   "source": [
    "a=1\n",
    "b=1\n",
    "a==b"
   ]
  },
  {
   "cell_type": "code",
   "execution_count": 94,
   "id": "91eef8c2-5017-4ad6-b2c0-a1153ffd1690",
   "metadata": {},
   "outputs": [
    {
     "data": {
      "text/plain": [
       "True"
      ]
     },
     "execution_count": 94,
     "metadata": {},
     "output_type": "execute_result"
    }
   ],
   "source": [
    "a is b"
   ]
  },
  {
   "cell_type": "code",
   "execution_count": 101,
   "id": "81e94a54-85e4-47db-8a26-6cb4df835b5e",
   "metadata": {},
   "outputs": [
    {
     "name": "stdout",
     "output_type": "stream",
     "text": [
      "안녕\n",
      "하세요\n",
      "안녕\n"
     ]
    }
   ],
   "source": [
    "print('안녕','하세요', '안녕',sep='\\n')"
   ]
  },
  {
   "cell_type": "code",
   "execution_count": 107,
   "id": "ab89de71-84b8-41b2-9108-295b5b425b7a",
   "metadata": {},
   "outputs": [
    {
     "data": {
      "text/plain": [
       "'i eat 3.1235 apple. total 6'"
      ]
     },
     "execution_count": 107,
     "metadata": {},
     "output_type": "execute_result"
    }
   ],
   "source": [
    "'i eat {:.4f} apple. total {}'.format(3.12345,6)"
   ]
  },
  {
   "cell_type": "code",
   "execution_count": 109,
   "id": "0584ffde-ed01-4053-9cfc-fcba84d00d2c",
   "metadata": {},
   "outputs": [
    {
     "data": {
      "text/plain": [
       "'i eat 321,212.12 apple.'"
      ]
     },
     "execution_count": 109,
     "metadata": {},
     "output_type": "execute_result"
    }
   ],
   "source": [
    "value = 321212.1234567\n",
    "f'i eat {value:^10,.2f} apple.'"
   ]
  },
  {
   "cell_type": "code",
   "execution_count": 111,
   "id": "f6765ad2-4ef2-4db4-8563-d94d71823738",
   "metadata": {
    "tags": []
   },
   "outputs": [
    {
     "data": {
      "text/plain": [
       "29"
      ]
     },
     "execution_count": 111,
     "metadata": {},
     "output_type": "execute_result"
    }
   ],
   "source": [
    "a = \"life is toooooooooooooo short\"\n",
    "len(a)"
   ]
  },
  {
   "cell_type": "code",
   "execution_count": 113,
   "id": "4584e5e4-c845-4155-a87f-735b145d7390",
   "metadata": {},
   "outputs": [
    {
     "data": {
      "text/plain": [
       "' '"
      ]
     },
     "execution_count": 113,
     "metadata": {},
     "output_type": "execute_result"
    }
   ],
   "source": [
    "a[23]"
   ]
  },
  {
   "cell_type": "code",
   "execution_count": 114,
   "id": "ecda04ca-80b3-4161-ba02-f97d51ecc7b9",
   "metadata": {},
   "outputs": [
    {
     "data": {
      "text/plain": [
       "'s'"
      ]
     },
     "execution_count": 114,
     "metadata": {},
     "output_type": "execute_result"
    }
   ],
   "source": [
    "a[24]"
   ]
  },
  {
   "cell_type": "code",
   "execution_count": 116,
   "id": "f0a2a9b3-4fbc-4e4d-b224-b11313c03879",
   "metadata": {},
   "outputs": [
    {
     "data": {
      "text/plain": [
       "'h'"
      ]
     },
     "execution_count": 116,
     "metadata": {},
     "output_type": "execute_result"
    }
   ],
   "source": [
    "a[-4]"
   ]
  },
  {
   "cell_type": "code",
   "execution_count": 117,
   "id": "d4f15080-63d6-4aa8-bdae-918d832a70e2",
   "metadata": {},
   "outputs": [
    {
     "data": {
      "text/plain": [
       "'life is toooooooooooooo short'"
      ]
     },
     "execution_count": 117,
     "metadata": {},
     "output_type": "execute_result"
    }
   ],
   "source": [
    "a[0:30]"
   ]
  },
  {
   "cell_type": "code",
   "execution_count": 118,
   "id": "8c0bb557-e347-4da5-86f0-688794545228",
   "metadata": {},
   "outputs": [
    {
     "data": {
      "text/plain": [
       "'oooooooooooooo'"
      ]
     },
     "execution_count": 118,
     "metadata": {},
     "output_type": "execute_result"
    }
   ],
   "source": [
    "a[9:23]"
   ]
  },
  {
   "cell_type": "code",
   "execution_count": 119,
   "id": "f3f29bc7-75ac-4adb-99d3-f54eff6dfc39",
   "metadata": {},
   "outputs": [
    {
     "data": {
      "text/plain": [
       "'toooooooooooooo'"
      ]
     },
     "execution_count": 119,
     "metadata": {},
     "output_type": "execute_result"
    }
   ],
   "source": [
    "a[8:23]"
   ]
  },
  {
   "cell_type": "code",
   "execution_count": null,
   "id": "5a064b19-8c03-46e0-b885-2818ee891fe2",
   "metadata": {
    "tags": []
   },
   "outputs": [],
   "source": [
    "email = input('이메일을 입력하세요')\n",
    "count = email.count('@')\n",
    "count"
   ]
  },
  {
   "cell_type": "code",
   "execution_count": null,
   "id": "7748ebf9-4497-442f-9c89-0d2be1f9fb66",
   "metadata": {},
   "outputs": [],
   "source": []
  }
 ],
 "metadata": {
  "kernelspec": {
   "display_name": "Python 3 (ipykernel)",
   "language": "python",
   "name": "python3"
  },
  "language_info": {
   "codemirror_mode": {
    "name": "ipython",
    "version": 3
   },
   "file_extension": ".py",
   "mimetype": "text/x-python",
   "name": "python",
   "nbconvert_exporter": "python",
   "pygments_lexer": "ipython3",
   "version": "3.9.7"
  }
 },
 "nbformat": 4,
 "nbformat_minor": 5
}
